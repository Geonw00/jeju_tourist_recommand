{
 "cells": [
  {
   "cell_type": "code",
   "execution_count": 1,
   "id": "80a6e73a",
   "metadata": {},
   "outputs": [],
   "source": [
    "import pandas as pd\n",
    "\n",
    "data_path = './data/after_preprocessing.csv'\n",
    "\n",
    "df = pd.read_csv(data_path)"
   ]
  },
  {
   "cell_type": "code",
   "execution_count": 2,
   "id": "7ef3121c",
   "metadata": {},
   "outputs": [
    {
     "data": {
      "text/plain": [
       "array(['naver', 'brunch'], dtype=object)"
      ]
     },
     "execution_count": 2,
     "metadata": {},
     "output_type": "execute_result"
    }
   ],
   "source": [
    "df['platform'].unique()"
   ]
  },
  {
   "cell_type": "code",
   "execution_count": 3,
   "id": "e5b86660",
   "metadata": {},
   "outputs": [
    {
     "data": {
      "text/html": [
       "<div>\n",
       "<style scoped>\n",
       "    .dataframe tbody tr th:only-of-type {\n",
       "        vertical-align: middle;\n",
       "    }\n",
       "\n",
       "    .dataframe tbody tr th {\n",
       "        vertical-align: top;\n",
       "    }\n",
       "\n",
       "    .dataframe thead th {\n",
       "        text-align: right;\n",
       "    }\n",
       "</style>\n",
       "<table border=\"1\" class=\"dataframe\">\n",
       "  <thead>\n",
       "    <tr style=\"text-align: right;\">\n",
       "      <th></th>\n",
       "      <th>source</th>\n",
       "      <th>content</th>\n",
       "      <th>postdate</th>\n",
       "      <th>platform</th>\n",
       "    </tr>\n",
       "  </thead>\n",
       "  <tbody>\n",
       "    <tr>\n",
       "      <th>0</th>\n",
       "      <td>휴애리 자연생활공원</td>\n",
       "      <td>언니 평소 가보고 싶어 하던 휴애리 축제 다녀왔어요 지금 한참 만발 해서 꽃길 걷다...</td>\n",
       "      <td>20211217</td>\n",
       "      <td>naver</td>\n",
       "    </tr>\n",
       "    <tr>\n",
       "      <th>1</th>\n",
       "      <td>휴애리 자연생활공원</td>\n",
       "      <td>안녕하세요 아델라 입니다 이번 포스팅 휴애리 자연생활공원 사진 많은 이었어요 저희 ...</td>\n",
       "      <td>20220227</td>\n",
       "      <td>naver</td>\n",
       "    </tr>\n",
       "    <tr>\n",
       "      <th>2</th>\n",
       "      <td>휴애리 자연생활공원</td>\n",
       "      <td>제주도 휴애리 자연생활공원 제주 매화축제 구경 제주 서귀포시 남원읍 매일 연중 입장...</td>\n",
       "      <td>20220306</td>\n",
       "      <td>naver</td>\n",
       "    </tr>\n",
       "    <tr>\n",
       "      <th>3</th>\n",
       "      <td>휴애리 자연생활공원</td>\n",
       "      <td>안녕하세요 량애 절반 지나가고 있네요 아직도 머물러 있어요 제주도 여행 다녀온지 얼...</td>\n",
       "      <td>20220127</td>\n",
       "      <td>naver</td>\n",
       "    </tr>\n",
       "    <tr>\n",
       "      <th>4</th>\n",
       "      <td>휴애리 자연생활공원</td>\n",
       "      <td>서귀포 가볼만 휴애리 자연생활공원 동백 포토 진짜 제주도 가서 이렇게 동백 미친듯이...</td>\n",
       "      <td>20220104</td>\n",
       "      <td>naver</td>\n",
       "    </tr>\n",
       "  </tbody>\n",
       "</table>\n",
       "</div>"
      ],
      "text/plain": [
       "       source                                            content  postdate  \\\n",
       "0  휴애리 자연생활공원  언니 평소 가보고 싶어 하던 휴애리 축제 다녀왔어요 지금 한참 만발 해서 꽃길 걷다...  20211217   \n",
       "1  휴애리 자연생활공원  안녕하세요 아델라 입니다 이번 포스팅 휴애리 자연생활공원 사진 많은 이었어요 저희 ...  20220227   \n",
       "2  휴애리 자연생활공원  제주도 휴애리 자연생활공원 제주 매화축제 구경 제주 서귀포시 남원읍 매일 연중 입장...  20220306   \n",
       "3  휴애리 자연생활공원  안녕하세요 량애 절반 지나가고 있네요 아직도 머물러 있어요 제주도 여행 다녀온지 얼...  20220127   \n",
       "4  휴애리 자연생활공원  서귀포 가볼만 휴애리 자연생활공원 동백 포토 진짜 제주도 가서 이렇게 동백 미친듯이...  20220104   \n",
       "\n",
       "  platform  \n",
       "0    naver  \n",
       "1    naver  \n",
       "2    naver  \n",
       "3    naver  \n",
       "4    naver  "
      ]
     },
     "execution_count": 3,
     "metadata": {},
     "output_type": "execute_result"
    }
   ],
   "source": [
    "df.head()"
   ]
  },
  {
   "cell_type": "code",
   "execution_count": 4,
   "id": "49efb95f",
   "metadata": {},
   "outputs": [
    {
     "name": "stdout",
     "output_type": "stream",
     "text": [
      "<class 'pandas.core.frame.DataFrame'>\n",
      "RangeIndex: 361706 entries, 0 to 361705\n",
      "Data columns (total 4 columns):\n",
      " #   Column    Non-Null Count   Dtype \n",
      "---  ------    --------------   ----- \n",
      " 0   source    361706 non-null  object\n",
      " 1   content   361677 non-null  object\n",
      " 2   postdate  361706 non-null  int64 \n",
      " 3   platform  361706 non-null  object\n",
      "dtypes: int64(1), object(3)\n",
      "memory usage: 11.0+ MB\n"
     ]
    }
   ],
   "source": [
    "df.info()"
   ]
  },
  {
   "cell_type": "code",
   "execution_count": 5,
   "id": "b16adc4e",
   "metadata": {},
   "outputs": [],
   "source": [
    "# null 값 제거\n",
    "df = df.dropna()"
   ]
  },
  {
   "cell_type": "code",
   "execution_count": 6,
   "id": "e148d37b",
   "metadata": {},
   "outputs": [
    {
     "name": "stdout",
     "output_type": "stream",
     "text": [
      "<class 'pandas.core.frame.DataFrame'>\n",
      "Int64Index: 361677 entries, 0 to 361705\n",
      "Data columns (total 4 columns):\n",
      " #   Column    Non-Null Count   Dtype \n",
      "---  ------    --------------   ----- \n",
      " 0   source    361677 non-null  object\n",
      " 1   content   361677 non-null  object\n",
      " 2   postdate  361677 non-null  int64 \n",
      " 3   platform  361677 non-null  object\n",
      "dtypes: int64(1), object(3)\n",
      "memory usage: 13.8+ MB\n"
     ]
    }
   ],
   "source": [
    "df.info()"
   ]
  },
  {
   "cell_type": "code",
   "execution_count": 7,
   "id": "638feec8",
   "metadata": {},
   "outputs": [
    {
     "data": {
      "text/html": [
       "<div>\n",
       "<style scoped>\n",
       "    .dataframe tbody tr th:only-of-type {\n",
       "        vertical-align: middle;\n",
       "    }\n",
       "\n",
       "    .dataframe tbody tr th {\n",
       "        vertical-align: top;\n",
       "    }\n",
       "\n",
       "    .dataframe thead th {\n",
       "        text-align: right;\n",
       "    }\n",
       "</style>\n",
       "<table border=\"1\" class=\"dataframe\">\n",
       "  <thead>\n",
       "    <tr style=\"text-align: right;\">\n",
       "      <th></th>\n",
       "      <th>index</th>\n",
       "      <th>source</th>\n",
       "      <th>content</th>\n",
       "      <th>postdate</th>\n",
       "      <th>platform</th>\n",
       "    </tr>\n",
       "  </thead>\n",
       "  <tbody>\n",
       "    <tr>\n",
       "      <th>0</th>\n",
       "      <td>0</td>\n",
       "      <td>휴애리 자연생활공원</td>\n",
       "      <td>언니 평소 가보고 싶어 하던 휴애리 축제 다녀왔어요 지금 한참 만발 해서 꽃길 걷다...</td>\n",
       "      <td>20211217</td>\n",
       "      <td>naver</td>\n",
       "    </tr>\n",
       "    <tr>\n",
       "      <th>1</th>\n",
       "      <td>1</td>\n",
       "      <td>휴애리 자연생활공원</td>\n",
       "      <td>안녕하세요 아델라 입니다 이번 포스팅 휴애리 자연생활공원 사진 많은 이었어요 저희 ...</td>\n",
       "      <td>20220227</td>\n",
       "      <td>naver</td>\n",
       "    </tr>\n",
       "    <tr>\n",
       "      <th>2</th>\n",
       "      <td>2</td>\n",
       "      <td>휴애리 자연생활공원</td>\n",
       "      <td>제주도 휴애리 자연생활공원 제주 매화축제 구경 제주 서귀포시 남원읍 매일 연중 입장...</td>\n",
       "      <td>20220306</td>\n",
       "      <td>naver</td>\n",
       "    </tr>\n",
       "    <tr>\n",
       "      <th>3</th>\n",
       "      <td>3</td>\n",
       "      <td>휴애리 자연생활공원</td>\n",
       "      <td>안녕하세요 량애 절반 지나가고 있네요 아직도 머물러 있어요 제주도 여행 다녀온지 얼...</td>\n",
       "      <td>20220127</td>\n",
       "      <td>naver</td>\n",
       "    </tr>\n",
       "    <tr>\n",
       "      <th>4</th>\n",
       "      <td>4</td>\n",
       "      <td>휴애리 자연생활공원</td>\n",
       "      <td>서귀포 가볼만 휴애리 자연생활공원 동백 포토 진짜 제주도 가서 이렇게 동백 미친듯이...</td>\n",
       "      <td>20220104</td>\n",
       "      <td>naver</td>\n",
       "    </tr>\n",
       "    <tr>\n",
       "      <th>...</th>\n",
       "      <td>...</td>\n",
       "      <td>...</td>\n",
       "      <td>...</td>\n",
       "      <td>...</td>\n",
       "      <td>...</td>\n",
       "    </tr>\n",
       "    <tr>\n",
       "      <th>361672</th>\n",
       "      <td>361701</td>\n",
       "      <td>1100고지(휴게소)</td>\n",
       "      <td>크레마 알맞게 덮힌 진한 커피 두툼 내리고 감싸 온기 먼저 마시는 살짝 서리 펑펑 ...</td>\n",
       "      <td>20201220</td>\n",
       "      <td>brunch</td>\n",
       "    </tr>\n",
       "    <tr>\n",
       "      <th>361673</th>\n",
       "      <td>361702</td>\n",
       "      <td>(주)제주해양레저 투명카약</td>\n",
       "      <td>제주해양레저 즐기며 특별한 경험 되는 제주 오션 파크 제주 해양레저 즐기러 오는 사...</td>\n",
       "      <td>20190618</td>\n",
       "      <td>naver</td>\n",
       "    </tr>\n",
       "    <tr>\n",
       "      <th>361674</th>\n",
       "      <td>361703</td>\n",
       "      <td>(주)제주해양레저 투명카약</td>\n",
       "      <td>제주 가볼만 제주도 렌트카 지도 보고 버스 타고 뚜벅 여행 권역별 지선 버스 노선 ...</td>\n",
       "      <td>20210508</td>\n",
       "      <td>naver</td>\n",
       "    </tr>\n",
       "    <tr>\n",
       "      <th>361675</th>\n",
       "      <td>361704</td>\n",
       "      <td>(주)제주해양레저 투명카약</td>\n",
       "      <td>우리나라 바다 모두 특색 있고 아름다워 사계절 내내 예쁜 비경 자랑 하는데요 제주도...</td>\n",
       "      <td>20181224</td>\n",
       "      <td>naver</td>\n",
       "    </tr>\n",
       "    <tr>\n",
       "      <th>361676</th>\n",
       "      <td>361705</td>\n",
       "      <td>(주)제주해양레저 투명카약</td>\n",
       "      <td>안녕하세요 이웃 여름 휴가철 맞아 많은 관광객 저희 퐁당 제주 찾아주시는데요 모두 ...</td>\n",
       "      <td>20200809</td>\n",
       "      <td>naver</td>\n",
       "    </tr>\n",
       "  </tbody>\n",
       "</table>\n",
       "<p>361677 rows × 5 columns</p>\n",
       "</div>"
      ],
      "text/plain": [
       "         index          source  \\\n",
       "0            0      휴애리 자연생활공원   \n",
       "1            1      휴애리 자연생활공원   \n",
       "2            2      휴애리 자연생활공원   \n",
       "3            3      휴애리 자연생활공원   \n",
       "4            4      휴애리 자연생활공원   \n",
       "...        ...             ...   \n",
       "361672  361701     1100고지(휴게소)   \n",
       "361673  361702  (주)제주해양레저 투명카약   \n",
       "361674  361703  (주)제주해양레저 투명카약   \n",
       "361675  361704  (주)제주해양레저 투명카약   \n",
       "361676  361705  (주)제주해양레저 투명카약   \n",
       "\n",
       "                                                  content  postdate platform  \n",
       "0       언니 평소 가보고 싶어 하던 휴애리 축제 다녀왔어요 지금 한참 만발 해서 꽃길 걷다...  20211217    naver  \n",
       "1       안녕하세요 아델라 입니다 이번 포스팅 휴애리 자연생활공원 사진 많은 이었어요 저희 ...  20220227    naver  \n",
       "2       제주도 휴애리 자연생활공원 제주 매화축제 구경 제주 서귀포시 남원읍 매일 연중 입장...  20220306    naver  \n",
       "3       안녕하세요 량애 절반 지나가고 있네요 아직도 머물러 있어요 제주도 여행 다녀온지 얼...  20220127    naver  \n",
       "4       서귀포 가볼만 휴애리 자연생활공원 동백 포토 진짜 제주도 가서 이렇게 동백 미친듯이...  20220104    naver  \n",
       "...                                                   ...       ...      ...  \n",
       "361672  크레마 알맞게 덮힌 진한 커피 두툼 내리고 감싸 온기 먼저 마시는 살짝 서리 펑펑 ...  20201220   brunch  \n",
       "361673  제주해양레저 즐기며 특별한 경험 되는 제주 오션 파크 제주 해양레저 즐기러 오는 사...  20190618    naver  \n",
       "361674  제주 가볼만 제주도 렌트카 지도 보고 버스 타고 뚜벅 여행 권역별 지선 버스 노선 ...  20210508    naver  \n",
       "361675  우리나라 바다 모두 특색 있고 아름다워 사계절 내내 예쁜 비경 자랑 하는데요 제주도...  20181224    naver  \n",
       "361676  안녕하세요 이웃 여름 휴가철 맞아 많은 관광객 저희 퐁당 제주 찾아주시는데요 모두 ...  20200809    naver  \n",
       "\n",
       "[361677 rows x 5 columns]"
      ]
     },
     "execution_count": 7,
     "metadata": {},
     "output_type": "execute_result"
    }
   ],
   "source": [
    "# index 수정\n",
    "df.reset_index()"
   ]
  },
  {
   "cell_type": "code",
   "execution_count": 8,
   "id": "919076a6",
   "metadata": {},
   "outputs": [
    {
     "data": {
      "text/html": [
       "<div>\n",
       "<style scoped>\n",
       "    .dataframe tbody tr th:only-of-type {\n",
       "        vertical-align: middle;\n",
       "    }\n",
       "\n",
       "    .dataframe tbody tr th {\n",
       "        vertical-align: top;\n",
       "    }\n",
       "\n",
       "    .dataframe thead th {\n",
       "        text-align: right;\n",
       "    }\n",
       "</style>\n",
       "<table border=\"1\" class=\"dataframe\">\n",
       "  <thead>\n",
       "    <tr style=\"text-align: right;\">\n",
       "      <th></th>\n",
       "      <th>source</th>\n",
       "      <th>content</th>\n",
       "      <th>postdate</th>\n",
       "      <th>platform</th>\n",
       "    </tr>\n",
       "  </thead>\n",
       "  <tbody>\n",
       "    <tr>\n",
       "      <th>0</th>\n",
       "      <td>휴애리 자연생활공원</td>\n",
       "      <td>언니 평소 가보고 싶어 하던 휴애리 축제 다녀왔어요 지금 한참 만발 해서 꽃길 걷다...</td>\n",
       "      <td>20211217</td>\n",
       "      <td>naver</td>\n",
       "    </tr>\n",
       "    <tr>\n",
       "      <th>1</th>\n",
       "      <td>휴애리 자연생활공원</td>\n",
       "      <td>안녕하세요 아델라 입니다 이번 포스팅 휴애리 자연생활공원 사진 많은 이었어요 저희 ...</td>\n",
       "      <td>20220227</td>\n",
       "      <td>naver</td>\n",
       "    </tr>\n",
       "    <tr>\n",
       "      <th>2</th>\n",
       "      <td>휴애리 자연생활공원</td>\n",
       "      <td>제주도 휴애리 자연생활공원 제주 매화축제 구경 제주 서귀포시 남원읍 매일 연중 입장...</td>\n",
       "      <td>20220306</td>\n",
       "      <td>naver</td>\n",
       "    </tr>\n",
       "    <tr>\n",
       "      <th>3</th>\n",
       "      <td>휴애리 자연생활공원</td>\n",
       "      <td>안녕하세요 량애 절반 지나가고 있네요 아직도 머물러 있어요 제주도 여행 다녀온지 얼...</td>\n",
       "      <td>20220127</td>\n",
       "      <td>naver</td>\n",
       "    </tr>\n",
       "    <tr>\n",
       "      <th>4</th>\n",
       "      <td>휴애리 자연생활공원</td>\n",
       "      <td>서귀포 가볼만 휴애리 자연생활공원 동백 포토 진짜 제주도 가서 이렇게 동백 미친듯이...</td>\n",
       "      <td>20220104</td>\n",
       "      <td>naver</td>\n",
       "    </tr>\n",
       "  </tbody>\n",
       "</table>\n",
       "</div>"
      ],
      "text/plain": [
       "       source                                            content  postdate  \\\n",
       "0  휴애리 자연생활공원  언니 평소 가보고 싶어 하던 휴애리 축제 다녀왔어요 지금 한참 만발 해서 꽃길 걷다...  20211217   \n",
       "1  휴애리 자연생활공원  안녕하세요 아델라 입니다 이번 포스팅 휴애리 자연생활공원 사진 많은 이었어요 저희 ...  20220227   \n",
       "2  휴애리 자연생활공원  제주도 휴애리 자연생활공원 제주 매화축제 구경 제주 서귀포시 남원읍 매일 연중 입장...  20220306   \n",
       "3  휴애리 자연생활공원  안녕하세요 량애 절반 지나가고 있네요 아직도 머물러 있어요 제주도 여행 다녀온지 얼...  20220127   \n",
       "4  휴애리 자연생활공원  서귀포 가볼만 휴애리 자연생활공원 동백 포토 진짜 제주도 가서 이렇게 동백 미친듯이...  20220104   \n",
       "\n",
       "  platform  \n",
       "0    naver  \n",
       "1    naver  \n",
       "2    naver  \n",
       "3    naver  \n",
       "4    naver  "
      ]
     },
     "execution_count": 8,
     "metadata": {},
     "output_type": "execute_result"
    }
   ],
   "source": [
    "df.head()"
   ]
  },
  {
   "cell_type": "code",
   "execution_count": 9,
   "id": "145d87af",
   "metadata": {},
   "outputs": [],
   "source": [
    "# labeling\n",
    "d = df.source.unique()\n",
    "dic = {string : i for i,string in enumerate(d)}\n",
    "for key,val in dic.items():\n",
    "  df.loc[(df['source'] == key), 'target'] = int(val)"
   ]
  },
  {
   "cell_type": "code",
   "execution_count": 10,
   "id": "240b48cc",
   "metadata": {},
   "outputs": [
    {
     "data": {
      "text/plain": [
       "0            0\n",
       "1            0\n",
       "2            0\n",
       "3            0\n",
       "4            0\n",
       "          ... \n",
       "361701    1020\n",
       "361702    1021\n",
       "361703    1021\n",
       "361704    1021\n",
       "361705    1021\n",
       "Name: target, Length: 361677, dtype: int64"
      ]
     },
     "execution_count": 10,
     "metadata": {},
     "output_type": "execute_result"
    }
   ],
   "source": [
    "df['target'].astype(int)"
   ]
  },
  {
   "cell_type": "code",
   "execution_count": 11,
   "id": "d50fa07b",
   "metadata": {},
   "outputs": [],
   "source": [
    "# 문장 단위로 자르기\n",
    "from tqdm import tqdm\n",
    "\n",
    "content = []\n",
    "label = []\n",
    "source = []\n",
    "postdate = []\n",
    "platform = []\n",
    "from kiwipiepy import Kiwi\n",
    "kiwi = Kiwi()"
   ]
  },
  {
   "cell_type": "code",
   "execution_count": 12,
   "id": "bd03834a",
   "metadata": {},
   "outputs": [
    {
     "name": "stderr",
     "output_type": "stream",
     "text": [
      " 17%|█▋        | 16793/100000 [21:17<1:28:12, 15.72it/s] "
     ]
    },
    {
     "name": "stdout",
     "output_type": "stream",
     "text": [
      "16787\n"
     ]
    },
    {
     "name": "stderr",
     "output_type": "stream",
     "text": [
      " 47%|████▋     | 47024/100000 [55:06<43:32, 20.27it/s]   "
     ]
    },
    {
     "name": "stdout",
     "output_type": "stream",
     "text": [
      "47018\n"
     ]
    },
    {
     "name": "stderr",
     "output_type": "stream",
     "text": [
      " 83%|████████▎ | 83490/100000 [1:37:22<30:16,  9.09it/s]   "
     ]
    },
    {
     "name": "stdout",
     "output_type": "stream",
     "text": [
      "83483\n"
     ]
    },
    {
     "name": "stderr",
     "output_type": "stream",
     "text": [
      " 84%|████████▍ | 83892/100000 [1:37:53<21:00, 12.78it/s]"
     ]
    },
    {
     "name": "stdout",
     "output_type": "stream",
     "text": [
      "83888\n"
     ]
    },
    {
     "name": "stderr",
     "output_type": "stream",
     "text": [
      " 84%|████████▍ | 84349/100000 [1:38:38<37:33,  6.94it/s]  "
     ]
    },
    {
     "name": "stdout",
     "output_type": "stream",
     "text": [
      "84344\n"
     ]
    },
    {
     "name": "stderr",
     "output_type": "stream",
     "text": [
      " 85%|████████▍ | 84811/100000 [1:39:13<17:40, 14.33it/s]"
     ]
    },
    {
     "name": "stdout",
     "output_type": "stream",
     "text": [
      "84808\n"
     ]
    },
    {
     "name": "stderr",
     "output_type": "stream",
     "text": [
      " 85%|████████▌ | 85330/100000 [1:39:52<22:59, 10.63it/s]"
     ]
    },
    {
     "name": "stdout",
     "output_type": "stream",
     "text": [
      "85326\n"
     ]
    },
    {
     "name": "stderr",
     "output_type": "stream",
     "text": [
      " 87%|████████▋ | 87017/100000 [1:42:14<16:31, 13.10it/s]"
     ]
    },
    {
     "name": "stdout",
     "output_type": "stream",
     "text": [
      "87012\n"
     ]
    },
    {
     "name": "stderr",
     "output_type": "stream",
     "text": [
      " 88%|████████▊ | 88442/100000 [1:44:20<15:53, 12.12it/s]"
     ]
    },
    {
     "name": "stdout",
     "output_type": "stream",
     "text": [
      "88438\n"
     ]
    },
    {
     "name": "stderr",
     "output_type": "stream",
     "text": [
      " 88%|████████▊ | 88472/100000 [1:44:23<13:46, 13.94it/s]"
     ]
    },
    {
     "name": "stdout",
     "output_type": "stream",
     "text": [
      "88466\n"
     ]
    },
    {
     "name": "stderr",
     "output_type": "stream",
     "text": [
      " 91%|█████████ | 91149/100000 [1:48:18<09:35, 15.39it/s]  "
     ]
    },
    {
     "name": "stdout",
     "output_type": "stream",
     "text": [
      "91144\n"
     ]
    },
    {
     "name": "stderr",
     "output_type": "stream",
     "text": [
      " 92%|█████████▏| 91832/100000 [1:49:14<11:08, 12.21it/s]"
     ]
    },
    {
     "name": "stdout",
     "output_type": "stream",
     "text": [
      "91826\n"
     ]
    },
    {
     "name": "stderr",
     "output_type": "stream",
     "text": [
      " 92%|█████████▏| 92206/100000 [1:49:43<16:08,  8.04it/s]"
     ]
    },
    {
     "name": "stdout",
     "output_type": "stream",
     "text": [
      "92203\n"
     ]
    },
    {
     "name": "stderr",
     "output_type": "stream",
     "text": [
      " 94%|█████████▍| 94102/100000 [1:52:01<07:06, 13.82it/s]"
     ]
    },
    {
     "name": "stdout",
     "output_type": "stream",
     "text": [
      "94095\n"
     ]
    },
    {
     "name": "stderr",
     "output_type": "stream",
     "text": [
      " 95%|█████████▌| 95244/100000 [1:53:08<04:10, 19.02it/s] "
     ]
    },
    {
     "name": "stdout",
     "output_type": "stream",
     "text": [
      "95238\n"
     ]
    },
    {
     "name": "stderr",
     "output_type": "stream",
     "text": [
      "100%|██████████| 100000/100000 [2:03:44<00:00, 13.47it/s] \n"
     ]
    }
   ],
   "source": [
    "for i in tqdm(range(0,100000)):\n",
    "    try:\n",
    "        s = kiwi.split_into_sents(df['content'][i])\n",
    "        for j in s:\n",
    "            content.append(j.text)\n",
    "            label.append(df['target'][i])\n",
    "            source.append(df['source'][i])\n",
    "            postdate.append(df['postdate'][i])\n",
    "            platform.append(df['platform'][i])\n",
    "    except:\n",
    "        print(i)"
   ]
  },
  {
   "cell_type": "code",
   "execution_count": 13,
   "id": "18fc0451",
   "metadata": {},
   "outputs": [],
   "source": [
    "new_df = pd.DataFrame()\n",
    "new_df['source'] = source\n",
    "new_df['content'] = content\n",
    "new_df['postdate'] = postdate\n",
    "new_df['platform'] = platform\n",
    "new_df['target'] = label\n",
    "new_df.to_csv(\"sentences1.csv\", mode='w')"
   ]
  },
  {
   "cell_type": "code",
   "execution_count": 14,
   "id": "8061f69d",
   "metadata": {},
   "outputs": [],
   "source": [
    "content = []\n",
    "label = []\n",
    "source = []\n",
    "postdate = []\n",
    "platform = []"
   ]
  },
  {
   "cell_type": "code",
   "execution_count": 15,
   "id": "1530331c",
   "metadata": {},
   "outputs": [
    {
     "name": "stderr",
     "output_type": "stream",
     "text": [
      "  3%|▎         | 3459/100000 [04:38<1:22:46, 19.44it/s] "
     ]
    },
    {
     "name": "stdout",
     "output_type": "stream",
     "text": [
      "103444\n"
     ]
    },
    {
     "name": "stderr",
     "output_type": "stream",
     "text": [
      " 15%|█▌        | 15478/100000 [15:53<1:24:24, 16.69it/s] "
     ]
    },
    {
     "name": "stdout",
     "output_type": "stream",
     "text": [
      "115471\n"
     ]
    },
    {
     "name": "stderr",
     "output_type": "stream",
     "text": [
      " 59%|█████▉    | 59085/100000 [1:00:41<35:06, 19.42it/s]  "
     ]
    },
    {
     "name": "stdout",
     "output_type": "stream",
     "text": [
      "159081\n"
     ]
    },
    {
     "name": "stderr",
     "output_type": "stream",
     "text": [
      " 97%|█████████▋| 96791/100000 [1:38:29<03:25, 15.62it/s]   "
     ]
    },
    {
     "name": "stdout",
     "output_type": "stream",
     "text": [
      "196785\n"
     ]
    },
    {
     "name": "stderr",
     "output_type": "stream",
     "text": [
      " 98%|█████████▊| 98024/100000 [1:39:35<02:55, 11.28it/s]"
     ]
    },
    {
     "name": "stdout",
     "output_type": "stream",
     "text": [
      "198019\n"
     ]
    },
    {
     "name": "stderr",
     "output_type": "stream",
     "text": [
      "100%|██████████| 100000/100000 [1:41:17<00:00, 16.46it/s]\n"
     ]
    }
   ],
   "source": [
    "for i in tqdm(range(100000,200000)):\n",
    "    try:\n",
    "        s = kiwi.split_into_sents(df['content'][i])\n",
    "        for j in s:\n",
    "            content.append(j.text)\n",
    "            label.append(df['target'][i])\n",
    "            source.append(df['source'][i])\n",
    "            postdate.append(df['postdate'][i])\n",
    "            platform.append(df['platform'][i])\n",
    "    except:\n",
    "        print(i)"
   ]
  },
  {
   "cell_type": "code",
   "execution_count": 16,
   "id": "0c66db23",
   "metadata": {},
   "outputs": [],
   "source": [
    "new_df = pd.DataFrame()\n",
    "new_df['source'] = source\n",
    "new_df['content'] = content\n",
    "new_df['postdate'] = postdate\n",
    "new_df['platform'] = platform\n",
    "new_df['target'] = label\n",
    "new_df.to_csv(\"sentences2.csv\", mode='w')"
   ]
  },
  {
   "cell_type": "code",
   "execution_count": 17,
   "id": "bfe3cc78",
   "metadata": {},
   "outputs": [],
   "source": [
    "content = []\n",
    "label = []\n",
    "source = []\n",
    "postdate = []\n",
    "platform = []"
   ]
  },
  {
   "cell_type": "code",
   "execution_count": 18,
   "id": "00ea90f5",
   "metadata": {},
   "outputs": [
    {
     "name": "stderr",
     "output_type": "stream",
     "text": [
      "  7%|▋         | 6796/100000 [07:31<1:08:17, 22.75it/s] "
     ]
    },
    {
     "name": "stdout",
     "output_type": "stream",
     "text": [
      "206797\n"
     ]
    },
    {
     "name": "stderr",
     "output_type": "stream",
     "text": [
      "  7%|▋         | 6876/100000 [07:36<1:08:34, 22.63it/s]"
     ]
    },
    {
     "name": "stdout",
     "output_type": "stream",
     "text": [
      "206867\n"
     ]
    },
    {
     "name": "stderr",
     "output_type": "stream",
     "text": [
      " 10%|▉         | 9763/100000 [10:17<2:24:42, 10.39it/s]"
     ]
    },
    {
     "name": "stdout",
     "output_type": "stream",
     "text": [
      "209759\n"
     ]
    },
    {
     "name": "stderr",
     "output_type": "stream",
     "text": [
      " 28%|██▊       | 27976/100000 [25:42<51:17, 23.40it/s]   "
     ]
    },
    {
     "name": "stdout",
     "output_type": "stream",
     "text": [
      "227970\n"
     ]
    },
    {
     "name": "stderr",
     "output_type": "stream",
     "text": [
      " 36%|███▌      | 36194/100000 [35:23<1:06:25, 16.01it/s] "
     ]
    },
    {
     "name": "stdout",
     "output_type": "stream",
     "text": [
      "236189\n"
     ]
    },
    {
     "name": "stderr",
     "output_type": "stream",
     "text": [
      " 86%|████████▌ | 85656/100000 [1:27:05<11:47, 20.29it/s]   "
     ]
    },
    {
     "name": "stdout",
     "output_type": "stream",
     "text": [
      "285645\n"
     ]
    },
    {
     "name": "stderr",
     "output_type": "stream",
     "text": [
      " 97%|█████████▋| 96921/100000 [1:44:43<03:17, 15.60it/s]   "
     ]
    },
    {
     "name": "stdout",
     "output_type": "stream",
     "text": [
      "296914\n"
     ]
    },
    {
     "name": "stderr",
     "output_type": "stream",
     "text": [
      "100%|██████████| 100000/100000 [1:47:57<00:00, 15.44it/s]\n"
     ]
    }
   ],
   "source": [
    "for i in tqdm(range(200000,300000)):\n",
    "    try:\n",
    "        s = kiwi.split_into_sents(df['content'][i])\n",
    "        for j in s:\n",
    "            content.append(j.text)\n",
    "            label.append(df['target'][i])\n",
    "            source.append(df['source'][i])\n",
    "            postdate.append(df['postdate'][i])\n",
    "            platform.append(df['platform'][i])\n",
    "    except:\n",
    "        print(i)"
   ]
  },
  {
   "cell_type": "code",
   "execution_count": 19,
   "id": "f6aac97b",
   "metadata": {},
   "outputs": [],
   "source": [
    "new_df = pd.DataFrame()\n",
    "new_df['source'] = source\n",
    "new_df['content'] = content\n",
    "new_df['postdate'] = postdate\n",
    "new_df['platform'] = platform\n",
    "new_df['target'] = label\n",
    "new_df.to_csv(\"sentences3.csv\", mode='w')"
   ]
  },
  {
   "cell_type": "code",
   "execution_count": 12,
   "id": "27df11b4",
   "metadata": {},
   "outputs": [],
   "source": [
    "content = []\n",
    "label = []\n",
    "source = []\n",
    "postdate = []\n",
    "platform = []"
   ]
  },
  {
   "cell_type": "code",
   "execution_count": 13,
   "id": "1fe218e9",
   "metadata": {},
   "outputs": [
    {
     "name": "stderr",
     "output_type": "stream",
     "text": [
      " 29%|██▉       | 18091/61706 [19:18<47:04, 15.44it/s]  "
     ]
    },
    {
     "name": "stdout",
     "output_type": "stream",
     "text": [
      "318086\n"
     ]
    },
    {
     "name": "stderr",
     "output_type": "stream",
     "text": [
      " 73%|███████▎  | 45172/61706 [1:00:03<19:00, 14.50it/s] "
     ]
    },
    {
     "name": "stdout",
     "output_type": "stream",
     "text": [
      "345167\n"
     ]
    },
    {
     "name": "stderr",
     "output_type": "stream",
     "text": [
      "100%|██████████| 61706/61706 [1:18:02<00:00, 13.18it/s]  \n"
     ]
    }
   ],
   "source": [
    "for i in tqdm(range(300000,361706)):\n",
    "    try:\n",
    "        s = kiwi.split_into_sents(df['content'][i])\n",
    "        for j in s:\n",
    "            content.append(j.text)\n",
    "            label.append(df['target'][i])\n",
    "            source.append(df['source'][i])\n",
    "            postdate.append(df['postdate'][i])\n",
    "            platform.append(df['platform'][i])\n",
    "    except:\n",
    "        print(i)"
   ]
  },
  {
   "cell_type": "code",
   "execution_count": 14,
   "id": "0ec23f98",
   "metadata": {},
   "outputs": [],
   "source": [
    "new_df = pd.DataFrame()\n",
    "new_df['source'] = source\n",
    "new_df['content'] = content\n",
    "new_df['postdate'] = postdate\n",
    "new_df['platform'] = platform\n",
    "new_df['target'] = label\n",
    "new_df.to_csv(\"sentences4.csv\", mode='w')"
   ]
  },
  {
   "cell_type": "code",
   "execution_count": 16,
   "id": "5b70b27f",
   "metadata": {},
   "outputs": [],
   "source": [
    "import pandas as pd\n",
    "\n",
    "df1 = pd.read_csv('./sentences1.csv')\n",
    "df2 = pd.read_csv('./sentences2.csv')\n",
    "df3 = pd.read_csv('./sentences3.csv')\n",
    "df4 = pd.read_csv('./sentences4.csv')"
   ]
  },
  {
   "cell_type": "code",
   "execution_count": 17,
   "id": "2be3c473",
   "metadata": {},
   "outputs": [
    {
     "name": "stdout",
     "output_type": "stream",
     "text": [
      "2939848 2580717 2695097 1912216\n"
     ]
    }
   ],
   "source": [
    "print(len(df1),len(df2),len(df3),len(df4))"
   ]
  },
  {
   "cell_type": "code",
   "execution_count": 18,
   "id": "668e1dcc",
   "metadata": {},
   "outputs": [],
   "source": [
    "result = pd.concat([df1,df2,df3,df4], ignore_index=True)"
   ]
  },
  {
   "cell_type": "code",
   "execution_count": 20,
   "id": "7001aedc",
   "metadata": {},
   "outputs": [
    {
     "data": {
      "text/html": [
       "<div>\n",
       "<style scoped>\n",
       "    .dataframe tbody tr th:only-of-type {\n",
       "        vertical-align: middle;\n",
       "    }\n",
       "\n",
       "    .dataframe tbody tr th {\n",
       "        vertical-align: top;\n",
       "    }\n",
       "\n",
       "    .dataframe thead th {\n",
       "        text-align: right;\n",
       "    }\n",
       "</style>\n",
       "<table border=\"1\" class=\"dataframe\">\n",
       "  <thead>\n",
       "    <tr style=\"text-align: right;\">\n",
       "      <th></th>\n",
       "      <th>Unnamed: 0</th>\n",
       "      <th>source</th>\n",
       "      <th>content</th>\n",
       "      <th>postdate</th>\n",
       "      <th>platform</th>\n",
       "      <th>target</th>\n",
       "    </tr>\n",
       "  </thead>\n",
       "  <tbody>\n",
       "    <tr>\n",
       "      <th>0</th>\n",
       "      <td>0</td>\n",
       "      <td>휴애리 자연생활공원</td>\n",
       "      <td>언니 평소 가보고 싶어 하던 휴애리 축제 다녀왔어요</td>\n",
       "      <td>20211217</td>\n",
       "      <td>naver</td>\n",
       "      <td>0.0</td>\n",
       "    </tr>\n",
       "    <tr>\n",
       "      <th>1</th>\n",
       "      <td>1</td>\n",
       "      <td>휴애리 자연생활공원</td>\n",
       "      <td>지금 한참 만발 해서 꽃길 걷다 고간 제주 감귤 체험 알차게 즐기고 돌아온 여행 이...</td>\n",
       "      <td>20211217</td>\n",
       "      <td>naver</td>\n",
       "      <td>0.0</td>\n",
       "    </tr>\n",
       "    <tr>\n",
       "      <th>2</th>\n",
       "      <td>2</td>\n",
       "      <td>휴애리 자연생활공원</td>\n",
       "      <td>서귀포 남원읍 자리 휴애리 자연생활공원 볼수 있을 유명하답니다</td>\n",
       "      <td>20211217</td>\n",
       "      <td>naver</td>\n",
       "      <td>0.0</td>\n",
       "    </tr>\n",
       "    <tr>\n",
       "      <th>3</th>\n",
       "      <td>3</td>\n",
       "      <td>휴애리 자연생활공원</td>\n",
       "      <td>지금 겨울 대표 동백꽃 넓은 부지 활짝 피어 있어 걷는 발길 마다 온통 핑크색 꽃길...</td>\n",
       "      <td>20211217</td>\n",
       "      <td>naver</td>\n",
       "      <td>0.0</td>\n",
       "    </tr>\n",
       "    <tr>\n",
       "      <th>4</th>\n",
       "      <td>4</td>\n",
       "      <td>휴애리 자연생활공원</td>\n",
       "      <td>휴애리 자연생활공원 제주 서귀포시 남원읍 입장 시간 매일 하절기 입장 마감 입장 마...</td>\n",
       "      <td>20211217</td>\n",
       "      <td>naver</td>\n",
       "      <td>0.0</td>\n",
       "    </tr>\n",
       "  </tbody>\n",
       "</table>\n",
       "</div>"
      ],
      "text/plain": [
       "   Unnamed: 0      source                                            content  \\\n",
       "0           0  휴애리 자연생활공원                       언니 평소 가보고 싶어 하던 휴애리 축제 다녀왔어요   \n",
       "1           1  휴애리 자연생활공원  지금 한참 만발 해서 꽃길 걷다 고간 제주 감귤 체험 알차게 즐기고 돌아온 여행 이...   \n",
       "2           2  휴애리 자연생활공원                 서귀포 남원읍 자리 휴애리 자연생활공원 볼수 있을 유명하답니다   \n",
       "3           3  휴애리 자연생활공원  지금 겨울 대표 동백꽃 넓은 부지 활짝 피어 있어 걷는 발길 마다 온통 핑크색 꽃길...   \n",
       "4           4  휴애리 자연생활공원  휴애리 자연생활공원 제주 서귀포시 남원읍 입장 시간 매일 하절기 입장 마감 입장 마...   \n",
       "\n",
       "   postdate platform  target  \n",
       "0  20211217    naver     0.0  \n",
       "1  20211217    naver     0.0  \n",
       "2  20211217    naver     0.0  \n",
       "3  20211217    naver     0.0  \n",
       "4  20211217    naver     0.0  "
      ]
     },
     "execution_count": 20,
     "metadata": {},
     "output_type": "execute_result"
    }
   ],
   "source": [
    "result.head()"
   ]
  },
  {
   "cell_type": "code",
   "execution_count": 21,
   "id": "4da3c664",
   "metadata": {},
   "outputs": [],
   "source": [
    "result['target'] = result['target'].astype(int)"
   ]
  },
  {
   "cell_type": "code",
   "execution_count": 22,
   "id": "15db009a",
   "metadata": {},
   "outputs": [
    {
     "data": {
      "text/html": [
       "<div>\n",
       "<style scoped>\n",
       "    .dataframe tbody tr th:only-of-type {\n",
       "        vertical-align: middle;\n",
       "    }\n",
       "\n",
       "    .dataframe tbody tr th {\n",
       "        vertical-align: top;\n",
       "    }\n",
       "\n",
       "    .dataframe thead th {\n",
       "        text-align: right;\n",
       "    }\n",
       "</style>\n",
       "<table border=\"1\" class=\"dataframe\">\n",
       "  <thead>\n",
       "    <tr style=\"text-align: right;\">\n",
       "      <th></th>\n",
       "      <th>Unnamed: 0</th>\n",
       "      <th>source</th>\n",
       "      <th>content</th>\n",
       "      <th>postdate</th>\n",
       "      <th>platform</th>\n",
       "      <th>target</th>\n",
       "    </tr>\n",
       "  </thead>\n",
       "  <tbody>\n",
       "    <tr>\n",
       "      <th>0</th>\n",
       "      <td>0</td>\n",
       "      <td>휴애리 자연생활공원</td>\n",
       "      <td>언니 평소 가보고 싶어 하던 휴애리 축제 다녀왔어요</td>\n",
       "      <td>20211217</td>\n",
       "      <td>naver</td>\n",
       "      <td>0</td>\n",
       "    </tr>\n",
       "    <tr>\n",
       "      <th>1</th>\n",
       "      <td>1</td>\n",
       "      <td>휴애리 자연생활공원</td>\n",
       "      <td>지금 한참 만발 해서 꽃길 걷다 고간 제주 감귤 체험 알차게 즐기고 돌아온 여행 이...</td>\n",
       "      <td>20211217</td>\n",
       "      <td>naver</td>\n",
       "      <td>0</td>\n",
       "    </tr>\n",
       "    <tr>\n",
       "      <th>2</th>\n",
       "      <td>2</td>\n",
       "      <td>휴애리 자연생활공원</td>\n",
       "      <td>서귀포 남원읍 자리 휴애리 자연생활공원 볼수 있을 유명하답니다</td>\n",
       "      <td>20211217</td>\n",
       "      <td>naver</td>\n",
       "      <td>0</td>\n",
       "    </tr>\n",
       "    <tr>\n",
       "      <th>3</th>\n",
       "      <td>3</td>\n",
       "      <td>휴애리 자연생활공원</td>\n",
       "      <td>지금 겨울 대표 동백꽃 넓은 부지 활짝 피어 있어 걷는 발길 마다 온통 핑크색 꽃길...</td>\n",
       "      <td>20211217</td>\n",
       "      <td>naver</td>\n",
       "      <td>0</td>\n",
       "    </tr>\n",
       "    <tr>\n",
       "      <th>4</th>\n",
       "      <td>4</td>\n",
       "      <td>휴애리 자연생활공원</td>\n",
       "      <td>휴애리 자연생활공원 제주 서귀포시 남원읍 입장 시간 매일 하절기 입장 마감 입장 마...</td>\n",
       "      <td>20211217</td>\n",
       "      <td>naver</td>\n",
       "      <td>0</td>\n",
       "    </tr>\n",
       "  </tbody>\n",
       "</table>\n",
       "</div>"
      ],
      "text/plain": [
       "   Unnamed: 0      source                                            content  \\\n",
       "0           0  휴애리 자연생활공원                       언니 평소 가보고 싶어 하던 휴애리 축제 다녀왔어요   \n",
       "1           1  휴애리 자연생활공원  지금 한참 만발 해서 꽃길 걷다 고간 제주 감귤 체험 알차게 즐기고 돌아온 여행 이...   \n",
       "2           2  휴애리 자연생활공원                 서귀포 남원읍 자리 휴애리 자연생활공원 볼수 있을 유명하답니다   \n",
       "3           3  휴애리 자연생활공원  지금 겨울 대표 동백꽃 넓은 부지 활짝 피어 있어 걷는 발길 마다 온통 핑크색 꽃길...   \n",
       "4           4  휴애리 자연생활공원  휴애리 자연생활공원 제주 서귀포시 남원읍 입장 시간 매일 하절기 입장 마감 입장 마...   \n",
       "\n",
       "   postdate platform  target  \n",
       "0  20211217    naver       0  \n",
       "1  20211217    naver       0  \n",
       "2  20211217    naver       0  \n",
       "3  20211217    naver       0  \n",
       "4  20211217    naver       0  "
      ]
     },
     "execution_count": 22,
     "metadata": {},
     "output_type": "execute_result"
    }
   ],
   "source": [
    "result.head()"
   ]
  },
  {
   "cell_type": "code",
   "execution_count": 24,
   "id": "b4446242",
   "metadata": {},
   "outputs": [],
   "source": [
    "del result['Unnamed: 0']"
   ]
  },
  {
   "cell_type": "code",
   "execution_count": 25,
   "id": "2ea051a3",
   "metadata": {},
   "outputs": [
    {
     "data": {
      "text/html": [
       "<div>\n",
       "<style scoped>\n",
       "    .dataframe tbody tr th:only-of-type {\n",
       "        vertical-align: middle;\n",
       "    }\n",
       "\n",
       "    .dataframe tbody tr th {\n",
       "        vertical-align: top;\n",
       "    }\n",
       "\n",
       "    .dataframe thead th {\n",
       "        text-align: right;\n",
       "    }\n",
       "</style>\n",
       "<table border=\"1\" class=\"dataframe\">\n",
       "  <thead>\n",
       "    <tr style=\"text-align: right;\">\n",
       "      <th></th>\n",
       "      <th>source</th>\n",
       "      <th>content</th>\n",
       "      <th>postdate</th>\n",
       "      <th>platform</th>\n",
       "      <th>target</th>\n",
       "    </tr>\n",
       "  </thead>\n",
       "  <tbody>\n",
       "    <tr>\n",
       "      <th>0</th>\n",
       "      <td>휴애리 자연생활공원</td>\n",
       "      <td>언니 평소 가보고 싶어 하던 휴애리 축제 다녀왔어요</td>\n",
       "      <td>20211217</td>\n",
       "      <td>naver</td>\n",
       "      <td>0</td>\n",
       "    </tr>\n",
       "    <tr>\n",
       "      <th>1</th>\n",
       "      <td>휴애리 자연생활공원</td>\n",
       "      <td>지금 한참 만발 해서 꽃길 걷다 고간 제주 감귤 체험 알차게 즐기고 돌아온 여행 이...</td>\n",
       "      <td>20211217</td>\n",
       "      <td>naver</td>\n",
       "      <td>0</td>\n",
       "    </tr>\n",
       "    <tr>\n",
       "      <th>2</th>\n",
       "      <td>휴애리 자연생활공원</td>\n",
       "      <td>서귀포 남원읍 자리 휴애리 자연생활공원 볼수 있을 유명하답니다</td>\n",
       "      <td>20211217</td>\n",
       "      <td>naver</td>\n",
       "      <td>0</td>\n",
       "    </tr>\n",
       "    <tr>\n",
       "      <th>3</th>\n",
       "      <td>휴애리 자연생활공원</td>\n",
       "      <td>지금 겨울 대표 동백꽃 넓은 부지 활짝 피어 있어 걷는 발길 마다 온통 핑크색 꽃길...</td>\n",
       "      <td>20211217</td>\n",
       "      <td>naver</td>\n",
       "      <td>0</td>\n",
       "    </tr>\n",
       "    <tr>\n",
       "      <th>4</th>\n",
       "      <td>휴애리 자연생활공원</td>\n",
       "      <td>휴애리 자연생활공원 제주 서귀포시 남원읍 입장 시간 매일 하절기 입장 마감 입장 마...</td>\n",
       "      <td>20211217</td>\n",
       "      <td>naver</td>\n",
       "      <td>0</td>\n",
       "    </tr>\n",
       "  </tbody>\n",
       "</table>\n",
       "</div>"
      ],
      "text/plain": [
       "       source                                            content  postdate  \\\n",
       "0  휴애리 자연생활공원                       언니 평소 가보고 싶어 하던 휴애리 축제 다녀왔어요  20211217   \n",
       "1  휴애리 자연생활공원  지금 한참 만발 해서 꽃길 걷다 고간 제주 감귤 체험 알차게 즐기고 돌아온 여행 이...  20211217   \n",
       "2  휴애리 자연생활공원                 서귀포 남원읍 자리 휴애리 자연생활공원 볼수 있을 유명하답니다  20211217   \n",
       "3  휴애리 자연생활공원  지금 겨울 대표 동백꽃 넓은 부지 활짝 피어 있어 걷는 발길 마다 온통 핑크색 꽃길...  20211217   \n",
       "4  휴애리 자연생활공원  휴애리 자연생활공원 제주 서귀포시 남원읍 입장 시간 매일 하절기 입장 마감 입장 마...  20211217   \n",
       "\n",
       "  platform  target  \n",
       "0    naver       0  \n",
       "1    naver       0  \n",
       "2    naver       0  \n",
       "3    naver       0  \n",
       "4    naver       0  "
      ]
     },
     "execution_count": 25,
     "metadata": {},
     "output_type": "execute_result"
    }
   ],
   "source": [
    "result.head()"
   ]
  },
  {
   "cell_type": "code",
   "execution_count": 26,
   "id": "10480295",
   "metadata": {},
   "outputs": [],
   "source": [
    "result.to_csv(\"sentences.csv\", mode='w')"
   ]
  },
  {
   "cell_type": "code",
   "execution_count": null,
   "id": "2f656f68",
   "metadata": {},
   "outputs": [],
   "source": []
  }
 ],
 "metadata": {
  "kernelspec": {
   "display_name": "Python 3 (ipykernel)",
   "language": "python",
   "name": "python3"
  },
  "language_info": {
   "codemirror_mode": {
    "name": "ipython",
    "version": 3
   },
   "file_extension": ".py",
   "mimetype": "text/x-python",
   "name": "python",
   "nbconvert_exporter": "python",
   "pygments_lexer": "ipython3",
   "version": "3.6.13"
  }
 },
 "nbformat": 4,
 "nbformat_minor": 5
}
