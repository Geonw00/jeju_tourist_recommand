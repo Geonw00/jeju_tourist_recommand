{
 "cells": [
  {
   "cell_type": "markdown",
   "id": "d0e06dfd",
   "metadata": {},
   "source": [
    "## LDA(Latent Dirichlet Allocation), 잠재디리클레할당\n",
    "    - 토픽 모델링에 사용되는 대표적인 알고리즘\n",
    "    \n",
    "- 모듈\n",
    "    - gensim.models.wrappers.LdaMallet 모듈사용 => 깁스 샘플링을 사용하여 훈련 코퍼스에서 LDA 모델 추천가능\n",
    "        - 깁스 샘플링 => 2번째로 생성될 표본은 1차 생성 표본의 영향을 받으며, 나머지 변수는 가만히 두고 한 변수에만 변화를 준다.\n",
    "            - ex) p(x1, y1, z1)가 존재할 경우, 변수명+표본의 차수\n",
    "            - 변경 순서 => p(y1, z1)을 유지시킨 채 x1 -> x2 로 변경 => p(x2, z1)을 유지시킨 채 y1 -> y2 로 변경 => ...\n",
    "            - 1차 변경 결과 => p(x2, y2, z2)\n",
    "\n",
    "        - 검색창에 mallet.cs.umass.edu/dist/mallet-2.0.8.zip 치면 해당 zip파일 자동다운로드\n",
    "        \n",
    "        \n",
    "- CoherenceMetric\n",
    "\t- 토픽 내 일관성 지수를 계산, 최적의 토픽 개수를 찾기위해서 사용\n",
    "\t- coherence = 'c_v' 사용\n",
    "\t- score가 높은 토픽 개수 사용\n",
    "    \n",
    "\n",
    "- Corpora 라이브러리\n",
    "\t- from gensim import corpora / from gensim.corpora.dictionary import Dictionary\n",
    "\t- 텍스트 데이터의 특성 상 수치화해서 분석 및 연산 진행해야함.\n",
    "\t- 텍스트를 가지고 분석이나 연산에 용이하게 데이터 집합을 만들어 주는 라이브러리\n",
    "\t- document = ['a', 'b', 'c']라는 리스트가 존재할 때\n",
    "\t- dict = corpora.Dictionary(document) / dict = Dictionary(document) \n",
    "\t- dict는 리스트가 사전형식으로 변환 (ex) {'a': 0, 'b': 1, 'c': 2}\n",
    "\t- doc2bow를 통해서 단어를 숫자로 변경하고 카운트까지 알 수 있음\n",
    "\t- dict.doc2bow(input) 으로 input에 있는 텍스트 사전을 통해 단어별 개수 확인\n",
    "\t- ex) [(0, 1), (1, 5)]이면 0번에 위치한 단어는 1번, 1번에 위치한 단어는 5번 나왔다는 의미"
   ]
  },
  {
   "cell_type": "code",
   "execution_count": 1,
   "id": "40b0f8d8",
   "metadata": {},
   "outputs": [],
   "source": [
    "# !pip install konlpy\n",
    "# 3.8.5 버전이후로 gensim.models.wrappers.LdaMallet 삭제 => 3.8.3 버전 사용\n",
    "# !pip install gensim==3.8.3"
   ]
  },
  {
   "cell_type": "code",
   "execution_count": 2,
   "id": "7b0d771c",
   "metadata": {},
   "outputs": [],
   "source": [
    "from tqdm.notebook import tqdm # 진행률 프로세스바\n",
    "import itertools # 효율적인 루핑을 위한 이터레이터\n",
    "from gensim.models.ldamodel import LdaModel # LDA 모델\n",
    "from gensim.models.callbacks import CoherenceMetric \n",
    "import gensim\n",
    "from gensim import corpora, models\n",
    "from gensim.models import CoherenceModel # 최적의 토픽개수 구하는 모델\n",
    "import pandas as pd\n",
    "import numpy as np\n",
    "from konlpy.tag import Okt\n",
    "import os"
   ]
  },
  {
   "cell_type": "code",
   "execution_count": 3,
   "id": "90ffba1b",
   "metadata": {},
   "outputs": [],
   "source": [
    "# 전체 데이터 읽기\n",
    "# df = pd.read_parquet('after_preprocessing.parquet')\n",
    "\n",
    "# 필요한 컬럼만 읽고 싶을 경우\n",
    "df = pd.read_parquet('after_preprocessing.parquet', columns=['source', 'content'])"
   ]
  },
  {
   "cell_type": "code",
   "execution_count": 10,
   "id": "2da014bd",
   "metadata": {},
   "outputs": [],
   "source": [
    "# Okt로 토큰화\n",
    "def tokenizedOkt(tourDf):\n",
    "    okt = Okt()\n",
    "    tour_tokenized = [] \n",
    "\n",
    "    # 해당 관광지에 관한 content들 토큰화\n",
    "    tqdmDf = tqdm(tourDf)\n",
    "\n",
    "    for tourInfo in tqdmDf:\n",
    "        tqdmDf.set_description(f'Processing tokenized')\n",
    "        tokenized_doc = okt.pos(tourInfo)\n",
    "        \n",
    "        # 명사만 사용\n",
    "        tokenized_list = [w for w,t in tokenized_doc if t =='Noun']\n",
    "        tour_tokenized.append(tokenized_list)\n",
    "        \n",
    "    return tour_tokenized"
   ]
  },
  {
   "cell_type": "code",
   "execution_count": 5,
   "id": "0ec0c86e",
   "metadata": {},
   "outputs": [],
   "source": [
    "# 토크나이징한 데이터를 입력으로 받아서, 이 데이터들을 바탕으로 사전 제작 \n",
    "# corpus에는 (token_id, token_count)가 튜플형태로 저장\n",
    "def dictionary(data_word):\n",
    "    \n",
    "    # 토큰화된 문장리스트로 사전구성\n",
    "    id2word=corpora.Dictionary(data_word)\n",
    "    id2word.filter_extremes(no_below = 20) # 20회 이하로 등장한 단어는 삭제\n",
    "    texts = data_word\n",
    "    # 토큰화된 문장리스트의 각 단어를 통해서 해당 단어가 총 몇번 등장하는 지 계산\n",
    "    corpus=[id2word.doc2bow(text) for text in texts]\n",
    "    return id2word, texts, corpus"
   ]
  },
  {
   "cell_type": "code",
   "execution_count": 6,
   "id": "ef10d0eb",
   "metadata": {},
   "outputs": [],
   "source": [
    "# 최적의 토픽 개수 도출\n",
    "def compute_coherence_values(dictionary, corpus, texts, start, limit, step):\n",
    "    \n",
    "    os.environ.update({'MALLET_HOME':r'C:/pythonPrj/jejuModel/mallet-2.0.8/'})\n",
    "    \n",
    "    # 설치한 mallet 경로\n",
    "    mallet_path = 'C:/pythonPrj/jejuModel/mallet-2.0.8/bin/mallet'\n",
    "    \n",
    "    # 토픽 개수에 따른 모델 저장\n",
    "    model_list = []\n",
    "    \n",
    "    # 모델별 일관성 지수 저장\n",
    "    coherence_values = []\n",
    "    \n",
    "    print(f'start: {start}, limit: {limit}, step: {step}')\n",
    "\n",
    "    # 진행상황 확인 변수 선언\n",
    "    tqdmSet = tqdm(range(start, limit, step))\n",
    "    \n",
    "    for num_topics in tqdmSet:\n",
    "        # 진행 상황 확인(현재 진행되는 num_topics로 해당 문자열 변경)\n",
    "        tqdmSet.set_description(f'Processing num_topics')\n",
    "        \n",
    "        # 토픽 개수별 모델 \n",
    "        model = gensim.models.wrappers.LdaMallet(mallet_path, corpus=corpus, num_topics=num_topics, id2word=dictionary)\n",
    "        model_list.append(model)\n",
    "        \n",
    "        # 모델별 토픽의 일관성 지수 계산 모델\n",
    "        coherencemodel = CoherenceModel(model=model, texts=data_word, dictionary=dictionary, coherence='c_v')\n",
    "        coherence_values.append(coherencemodel.get_coherence())\n",
    "        \n",
    "    return model_list, coherence_values"
   ]
  },
  {
   "cell_type": "code",
   "execution_count": 7,
   "id": "afb50e79",
   "metadata": {},
   "outputs": [],
   "source": [
    "def LDA(data_word, Data_list, start, limit, step):\n",
    "    id2word, texts, corpus = dictionary(data_word)\n",
    "    \n",
    "    print(\"Create LDA instance\")\n",
    "    os.environ.update({'MALLET_HOME':r'C:/pythonPrj/jejuModel/mallet-2.0.8/'})\n",
    "    \n",
    "    # 설치한 mallet 경로\n",
    "    mallet_path = 'C:/pythonPrj/jejuModel/mallet-2.0.8/bin/mallet'\n",
    "    \n",
    "#     # LDA 모델\n",
    "#     ldamallet = gensim.models.wrappers.LdaMallet(mallet_path, corpus=corpus, num_topics=20, id2word=id2word)\n",
    "    \n",
    "#     # 토픽의 일관성 지수 계산 \n",
    "#     coherence_model_ldamallet = CoherenceModel(model=ldamallet, texts=texts, dictionary=id2word, coherence='c_v')\n",
    "#     coherence_ldamallet = coherence_model_ldamallet.get_coherence()\n",
    "    \n",
    "    # 해당 반복문 사용 불가할 시 위의 코드 사용\n",
    "    # 위의 compute_coherence_values를 통한 최적의 토픽 개수 사용\n",
    "    model_list, coherence_values = compute_coherence_values(dictionary=id2word, corpus=corpus, texts=texts, start=start, limit=limit, step=step)\n",
    "    \n",
    "    x = range(start, limit, step)\n",
    "    topic_num = 0\n",
    "    count = 0\n",
    "    max_coherence = 0\n",
    "    for m, cv in zip(x, coherence_values):\n",
    "        # score가 높을수록 좋음\n",
    "        print(\"Num Topics =\", m, \" has Coherence Value of\", cv)\n",
    "        coherence = cv\n",
    "        if coherence >= max_coherence:\n",
    "            max_coherence = coherence\n",
    "            topic_num = m\n",
    "            model_list_num = count   \n",
    "        count = count+1\n",
    "        \n",
    "    # 최적의 모델 도출\n",
    "    optimal_model = model_list[model_list_num]\n",
    "    model_topics = optimal_model.show_topics(formatted=False, num_words=10)\n",
    "    return optimal_model, model_topics"
   ]
  },
  {
   "cell_type": "markdown",
   "id": "0b7e34f2",
   "metadata": {},
   "source": [
    "### 한 관광지에 대한 토픽 모델링 진행\n",
    "    - 한 관광지에 대한 다양한 특성별 토픽을 통하여 특성별로 상위에 위치한 단어를 키워드로 사용"
   ]
  },
  {
   "cell_type": "code",
   "execution_count": 11,
   "id": "da6e7b0c",
   "metadata": {},
   "outputs": [
    {
     "data": {
      "application/vnd.jupyter.widget-view+json": {
       "model_id": "af2cab345bba41bca03243185de0349f",
       "version_major": 2,
       "version_minor": 0
      },
      "text/plain": [
       "  0%|          | 0/347 [00:00<?, ?it/s]"
      ]
     },
     "metadata": {},
     "output_type": "display_data"
    }
   ],
   "source": [
    "# type(tourDf) => pandas.core.series.Series(원본 데이터)\n",
    "tourDf = df[df.source == '공천포']['content'] \n",
    "\n",
    "# seires => DataFrame으로 변환 (원본 데이터)\n",
    "# tour_OriDf = pd.DataFrame(tourDf)\n",
    "\n",
    "# 토큰화 진행\n",
    "tour_tokenized = tokenizedOkt(tourDf)\n",
    "\n",
    "data_word = tour_tokenized   # 토큰화 데이터\n",
    "Data_list = tourDf             # 원본 데이터\n",
    "start=5; limit=10; step=1;          # 모델에서 평가해볼 토픽의 개수 시작, 끝, 증분"
   ]
  },
  {
   "cell_type": "code",
   "execution_count": 12,
   "id": "f232dcbd",
   "metadata": {
    "scrolled": false
   },
   "outputs": [
    {
     "name": "stdout",
     "output_type": "stream",
     "text": [
      "Create LDA instance\n",
      "start: 5, limit: 10, step: 1\n"
     ]
    },
    {
     "data": {
      "application/vnd.jupyter.widget-view+json": {
       "model_id": "075e6b37337141f3bd83d4f904d40b77",
       "version_major": 2,
       "version_minor": 0
      },
      "text/plain": [
       "  0%|          | 0/5 [00:00<?, ?it/s]"
      ]
     },
     "metadata": {},
     "output_type": "display_data"
    },
    {
     "name": "stdout",
     "output_type": "stream",
     "text": [
      "Num Topics = 5  has Coherence Value of 0.45843252051599437\n",
      "Num Topics = 6  has Coherence Value of 0.44210563238726636\n",
      "Num Topics = 7  has Coherence Value of 0.4644892361686814\n",
      "Num Topics = 8  has Coherence Value of 0.4667237867115923\n",
      "Num Topics = 9  has Coherence Value of 0.4742658558790529\n"
     ]
    }
   ],
   "source": [
    "model, topics = LDA(data_word, Data_list, start, limit, step)"
   ]
  },
  {
   "cell_type": "code",
   "execution_count": 13,
   "id": "dd0a5af0",
   "metadata": {
    "scrolled": true
   },
   "outputs": [
    {
     "data": {
      "text/plain": [
       "[(0,\n",
       "  [('전복', 0.17200217037438958),\n",
       "   ('한치', 0.14378730330982095),\n",
       "   ('된장', 0.060499186109603906),\n",
       "   ('전복죽', 0.05344546934346175),\n",
       "   ('맛집', 0.04584915897992404),\n",
       "   ('베이스', 0.0341833966359197),\n",
       "   ('고등어', 0.030656538252848618),\n",
       "   ('반찬', 0.030113944655453067),\n",
       "   ('국물', 0.025501899077590883),\n",
       "   ('냉동', 0.025230602278893108)]),\n",
       " (1,\n",
       "  [('우리', 0.06780798925814031),\n",
       "   ('근처', 0.058744545149378984),\n",
       "   ('숙소', 0.04296743873783149),\n",
       "   ('미리', 0.03759650889560255),\n",
       "   ('도착', 0.03591809331990601),\n",
       "   ('오늘', 0.03491104397448808),\n",
       "   ('다음', 0.02853306478684122),\n",
       "   ('날씨', 0.02853306478684122),\n",
       "   ('점심', 0.027861698556562606),\n",
       "   ('이제', 0.027861698556562606)]),\n",
       " (2,\n",
       "  [('정말', 0.09620596205962059),\n",
       "   ('추천', 0.06063685636856368),\n",
       "   ('느낌', 0.05521680216802168),\n",
       "   ('진짜', 0.0535230352303523),\n",
       "   ('조금', 0.053184281842818426),\n",
       "   ('생각', 0.049796747967479675),\n",
       "   ('그냥', 0.03353658536585366),\n",
       "   ('사실', 0.03116531165311653),\n",
       "   ('여기', 0.030149051490514906),\n",
       "   ('저희', 0.030149051490514906)]),\n",
       " (3,\n",
       "  [('여행', 0.13023855577047067),\n",
       "   ('사람', 0.10541586073500966),\n",
       "   ('정도', 0.04448742746615087),\n",
       "   ('이번', 0.039651837524177946),\n",
       "   ('동네', 0.03868471953578337),\n",
       "   ('생각', 0.032559638942617666),\n",
       "   ('혼자', 0.02804642166344294),\n",
       "   ('거리', 0.026434558349451968),\n",
       "   ('다른', 0.025145067698259187),\n",
       "   ('산책', 0.025145067698259187)]),\n",
       " (4,\n",
       "  [('바로', 0.06119109947643979),\n",
       "   ('시간', 0.05202879581151833),\n",
       "   ('공간', 0.04221204188481675),\n",
       "   ('게스트하우스', 0.03893979057591623),\n",
       "   ('당신', 0.031413612565445025),\n",
       "   ('주방', 0.028795811518324606),\n",
       "   ('숙소', 0.028468586387434554),\n",
       "   ('오션', 0.0281413612565445),\n",
       "   ('예약', 0.02650523560209424),\n",
       "   ('서귀포', 0.02356020942408377)]),\n",
       " (5,\n",
       "  [('카페', 0.23010973936899862),\n",
       "   ('자리', 0.06035665294924554),\n",
       "   ('커피', 0.05281207133058985),\n",
       "   ('테이블', 0.03326474622770919),\n",
       "   ('분위기', 0.029835390946502057),\n",
       "   ('여기', 0.027777777777777776),\n",
       "   ('시간', 0.02709190672153635),\n",
       "   ('지니', 0.02606310013717421),\n",
       "   ('바로', 0.025377229080932786),\n",
       "   ('사장', 0.024691358024691357)]),\n",
       " (6,\n",
       "  [('가게', 0.04879749041477867),\n",
       "   ('가격', 0.04600906239107703),\n",
       "   ('음식', 0.04531195538515162),\n",
       "   ('시간', 0.04008365284071105),\n",
       "   ('휴무', 0.033112582781456956),\n",
       "   ('하나', 0.03241547577553154),\n",
       "   ('갈치', 0.029627047751829907),\n",
       "   ('여름', 0.027884280237016383),\n",
       "   ('영업', 0.02718717323109097),\n",
       "   ('손님', 0.026838619728128267)]),\n",
       " (7,\n",
       "  [('주문', 0.1156166219839142),\n",
       "   ('맛집', 0.11025469168900805),\n",
       "   ('서귀포', 0.10455764075067024),\n",
       "   ('메뉴', 0.07540214477211796),\n",
       "   ('방문', 0.05294906166219839),\n",
       "   ('주차', 0.04658176943699732),\n",
       "   ('식사', 0.036193029490616625),\n",
       "   ('위치', 0.030831099195710455),\n",
       "   ('밥', 0.028150134048257374),\n",
       "   ('새미', 0.02546916890080429)]),\n",
       " (8,\n",
       "  [('코스', 0.047182175622542594),\n",
       "   ('마을', 0.03964613368283093),\n",
       "   ('바닷가', 0.03636959370904325),\n",
       "   ('올레', 0.03604193971166448),\n",
       "   ('해변', 0.03407601572739188),\n",
       "   ('다시', 0.033420707732634336),\n",
       "   ('바람', 0.03211009174311927),\n",
       "   ('마음', 0.03145478374836173),\n",
       "   ('시작', 0.030799475753604193),\n",
       "   ('풍경', 0.03014416775884666)])]"
      ]
     },
     "execution_count": 13,
     "metadata": {},
     "output_type": "execute_result"
    }
   ],
   "source": [
    "# 결과확인 (공천포)\n",
    "topics"
   ]
  },
  {
   "cell_type": "markdown",
   "id": "e6eb1f4c",
   "metadata": {},
   "source": [
    "#### 결과 : 일부 토픽의 단어는 키워드로 사용할만 하지만, 전체적으로 토픽 전체가 의미를 가진다고 보기는 힘들다. 전체 관광지를 대상으로 해당 과정을 진행한다고 가정하였을 때, 수작업을 통한 토픽 분류가 아니면 데이터의 가공이 힘들 것 같다."
   ]
  },
  {
   "cell_type": "markdown",
   "id": "378ac7de",
   "metadata": {},
   "source": [
    "### 여러 관광지에 대한 토픽 모델링 진행\n",
    "    - 관광지수와 output 토픽의 개수를 일치시켜, 해당 관광지에 대한 토픽 도출 예상\n",
    "    - 관광지 별 토픽으로 제대로 도출된다면 해당 토픽의 단어는 관광지의 키워드로 사용가능하다고 판단\n",
    "    - (공천포, 휴애리 자연생활공원, 성산일출봉(UNESCO 세계자연유산, 본태박물관, 제주올레 14코스) 5개의 관광지로 진행"
   ]
  },
  {
   "cell_type": "code",
   "execution_count": 16,
   "id": "7715ed68",
   "metadata": {},
   "outputs": [
    {
     "data": {
      "application/vnd.jupyter.widget-view+json": {
       "model_id": "08448a99a903415383b32fa3989bd9b9",
       "version_major": 2,
       "version_minor": 0
      },
      "text/plain": [
       "  0%|          | 0/2382 [00:00<?, ?it/s]"
      ]
     },
     "metadata": {},
     "output_type": "display_data"
    }
   ],
   "source": [
    "tourDf = df[(df.source == '공천포') | (df.source == '휴애리 자연생활공원') | (df.source == '성산일출봉(UNESCO 세계자연유산)') | (df.source == '본태박물관') | (df.source == '제주올레 14코스')]['content']\n",
    "\n",
    "# 토큰화 진행\n",
    "tour_tokenized = tokenizedOkt(tourDf)\n",
    "\n",
    "data_word = tour_tokenized   # 토큰화 데이터\n",
    "Data_list = tourDf             # 원본 데이터\n",
    "# 관광지가 5개 이기때문에 토픽의 개수도 5개로 고정\n",
    "start=5; limit=6; step=1;          # 모델에서 평가해볼 토픽의 개수 시작, 끝, 증분"
   ]
  },
  {
   "cell_type": "code",
   "execution_count": 17,
   "id": "8086f919",
   "metadata": {},
   "outputs": [
    {
     "name": "stdout",
     "output_type": "stream",
     "text": [
      "Create LDA instance\n",
      "start: 5, limit: 6, step: 1\n"
     ]
    },
    {
     "data": {
      "application/vnd.jupyter.widget-view+json": {
       "model_id": "6ef956971e8f4a6da6ae3c6a9a67b7d9",
       "version_major": 2,
       "version_minor": 0
      },
      "text/plain": [
       "  0%|          | 0/1 [00:00<?, ?it/s]"
      ]
     },
     "metadata": {},
     "output_type": "display_data"
    },
    {
     "name": "stdout",
     "output_type": "stream",
     "text": [
      "Num Topics = 5  has Coherence Value of 0.7202211203538502\n"
     ]
    }
   ],
   "source": [
    "model, topics = LDA(data_word, Data_list, start, limit, step)"
   ]
  },
  {
   "cell_type": "code",
   "execution_count": 18,
   "id": "37382861",
   "metadata": {
    "scrolled": true
   },
   "outputs": [
    {
     "data": {
      "text/plain": [
       "[(0,\n",
       "  [('애리', 0.05429989451294378),\n",
       "   ('공원', 0.0380358655991146),\n",
       "   ('수국', 0.03699828799695644),\n",
       "   ('생활', 0.029916820862226988),\n",
       "   ('축제', 0.02547253013298286),\n",
       "   ('돼지', 0.023129334048109015),\n",
       "   ('체험', 0.02269701004720978),\n",
       "   ('동백꽃', 0.015252390751724973),\n",
       "   ('포토', 0.013540387708164006),\n",
       "   ('핑크', 0.01345392290798416)]),\n",
       " (1,\n",
       "  [('박물관', 0.044302260513340304),\n",
       "   ('작품', 0.033089438619830436),\n",
       "   ('태', 0.027915914394011383),\n",
       "   ('전시', 0.019870556312227467),\n",
       "   ('공간', 0.019300412826116796),\n",
       "   ('전시관', 0.014992662042169501),\n",
       "   ('관람', 0.014834288851583204),\n",
       "   ('안도', 0.014095213962180482),\n",
       "   ('건물', 0.010442072365989884),\n",
       "   ('전통', 0.009185645054005258)]),\n",
       " (2,\n",
       "  [('코스', 0.04929985417790296),\n",
       "   ('올레', 0.029653822336749167),\n",
       "   ('마을', 0.01534128363396656),\n",
       "   ('시작', 0.013123988733744832),\n",
       "   ('오름', 0.011935438764707058),\n",
       "   ('올레길', 0.011406084576816284),\n",
       "   ('바람', 0.00955833882663151),\n",
       "   ('바다', 0.008829228341423464),\n",
       "   ('오늘', 0.008719362377898963),\n",
       "   ('길이', 0.00862947204410619)]),\n",
       " (3,\n",
       "  [('성산일출봉', 0.03742233463462913),\n",
       "   ('세계', 0.02590861604442734),\n",
       "   ('유산', 0.018738659482047615),\n",
       "   ('정상', 0.013691098037059438),\n",
       "   ('성산', 0.012899323692747567),\n",
       "   ('모습', 0.009864188706218727),\n",
       "   ('풍경', 0.008566558530818717),\n",
       "   ('유네스코', 0.007708802991147523),\n",
       "   ('때문', 0.007246934623632265),\n",
       "   ('탐방', 0.007202947160059383)]),\n",
       " (4,\n",
       "  [('카페', 0.01965854058934581),\n",
       "   ('공천', 0.019155790856110973),\n",
       "   ('포', 0.018878765492899942),\n",
       "   ('식당', 0.017719363046868587),\n",
       "   ('물회', 0.01614955265533941),\n",
       "   ('바다', 0.011850529426249692),\n",
       "   ('정말', 0.011337519494377411),\n",
       "   ('바로', 0.010783468767955348),\n",
       "   ('우리', 0.01035254042518263),\n",
       "   ('여기', 0.009819010096035459)])]"
      ]
     },
     "execution_count": 18,
     "metadata": {},
     "output_type": "execute_result"
    }
   ],
   "source": [
    "# 결과확인 (공천포, 휴애리 자연생활공원, 성산일출봉(UNESCO 세계자연유산, 본태박물관, 제주올레 14코스)\n",
    "topics"
   ]
  },
  {
   "cell_type": "markdown",
   "id": "cb63fa1d",
   "metadata": {},
   "source": [
    "#### 결과 : 5개의 토픽이 관광지 별로 잘 나누어져 있음을 토픽내부의 단어를 통해서 알 수 있다. 하지만 전체 관광지를 대상으로 진행한다고 생각하면, 토픽을 미리 지정할 수 없기에 이 후에 각 토픽 별로 라벨링을 할 필요성이 있다."
   ]
  },
  {
   "cell_type": "markdown",
   "id": "6f54d5a5",
   "metadata": {},
   "source": [
    "### 비슷한 특성을 가진 관광지들에 대한 토픽 모델링 진행\n",
    "    - 관광지수와 output 토픽의 개수를 일치시켜, 해당 관광지에 대한 토픽 도출 예상\n",
    "    - 관광지 별 토픽으로 제대로 도출된다면 해당 토픽의 단어는 관광지의 키워드로 사용가능하다고 판단\n",
    "    - (바이나흐튼 크리스마스 박물관, 세계자동차 & 피아노박물관, 한국야구명예전당(야구박물관), 본태박물관, 초콜릿박물관) 5개의 관광지로 진행"
   ]
  },
  {
   "cell_type": "code",
   "execution_count": 19,
   "id": "fd9a6b85",
   "metadata": {},
   "outputs": [
    {
     "data": {
      "application/vnd.jupyter.widget-view+json": {
       "model_id": "05a8fe1e16114e4d8e4ca795b15419b1",
       "version_major": 2,
       "version_minor": 0
      },
      "text/plain": [
       "  0%|          | 0/2905 [00:00<?, ?it/s]"
      ]
     },
     "metadata": {},
     "output_type": "display_data"
    }
   ],
   "source": [
    "tourDf = df[(df.source == '바이나흐튼 크리스마스 박물관') | (df.source == '세계자동차 & 피아노박물관') | (df.source == '한국야구명예전당(야구박물관)') | (df.source == '본태박물관') | (df.source == '초콜릿박물관')]['content']\n",
    "\n",
    "# 토큰화 진행\n",
    "tour_tokenized = tokenizedOkt(tourDf)\n",
    "\n",
    "data_word = tour_tokenized   # 토큰화 데이터\n",
    "Data_list = tourDf             # 원본 데이터\n",
    "# 관광지가 5개 이기때문에 토픽의 개수도 5개로 고정\n",
    "start=5; limit=6; step=1;          # 모델에서 평가해볼 토픽의 개수 시작, 끝, 증분"
   ]
  },
  {
   "cell_type": "code",
   "execution_count": 20,
   "id": "c7837311",
   "metadata": {
    "collapsed": true
   },
   "outputs": [
    {
     "name": "stdout",
     "output_type": "stream",
     "text": [
      "Create LDA instance\n",
      "start: 5, limit: 6, step: 1\n"
     ]
    },
    {
     "data": {
      "application/vnd.jupyter.widget-view+json": {
       "model_id": "637184bb83d94abca05fc65ff4c6237a",
       "version_major": 2,
       "version_minor": 0
      },
      "text/plain": [
       "  0%|          | 0/1 [00:00<?, ?it/s]"
      ]
     },
     "metadata": {},
     "output_type": "display_data"
    },
    {
     "name": "stdout",
     "output_type": "stream",
     "text": [
      "Num Topics = 5  has Coherence Value of 0.6590202565322094\n"
     ]
    }
   ],
   "source": [
    "model, topics = LDA(data_word, Data_list, start, limit, step)"
   ]
  },
  {
   "cell_type": "code",
   "execution_count": 21,
   "id": "9cd3cd54",
   "metadata": {
    "scrolled": true
   },
   "outputs": [
    {
     "data": {
      "text/plain": [
       "[(0,\n",
       "  [('크리스마스', 0.0861721644663477),\n",
       "   ('바이', 0.021979207885175725),\n",
       "   ('흐', 0.021394654483974245),\n",
       "   ('마켓', 0.016619302852620598),\n",
       "   ('구경', 0.015450196050217633),\n",
       "   ('진짜', 0.015423216662469872),\n",
       "   ('소품', 0.014110219792078852),\n",
       "   ('여기', 0.013741501492859456),\n",
       "   ('분위기', 0.012842188567934098),\n",
       "   ('정말', 0.01254541530270873)]),\n",
       " (1,\n",
       "  [('작품', 0.03272612569986594),\n",
       "   ('태', 0.023315721683358305),\n",
       "   ('공간', 0.020914929597210176),\n",
       "   ('관람', 0.01605201132052327),\n",
       "   ('전시관', 0.015946867141567875),\n",
       "   ('안도', 0.011671003864048577),\n",
       "   ('느낌', 0.008989827300686065),\n",
       "   ('건물', 0.008472868420822052),\n",
       "   ('전통', 0.008008481630435734),\n",
       "   ('거울', 0.0077806692426990514)]),\n",
       " (2,\n",
       "  [('카페', 0.014022191400832178),\n",
       "   ('우리', 0.01217753120665742),\n",
       "   ('숙소', 0.008890429958391123),\n",
       "   ('코스', 0.0075034674063800275),\n",
       "   ('제주시', 0.007052704576976421),\n",
       "   ('바로', 0.0068793342579750345),\n",
       "   ('호텔', 0.006782246879334258),\n",
       "   ('그냥', 0.006761442441054091),\n",
       "   ('다음', 0.006712898751733703),\n",
       "   ('바다', 0.006615811373092926)]),\n",
       " (3,\n",
       "  [('자동차', 0.07754726451397022),\n",
       "   ('피아노', 0.05828294175290996),\n",
       "   ('세계', 0.038134276631850664),\n",
       "   ('체험', 0.03511078180644853),\n",
       "   ('아이', 0.030456033844021128),\n",
       "   ('초콜릿', 0.022210138865651666),\n",
       "   ('사슴', 0.01544611486890222),\n",
       "   ('어린이', 0.010152011281340377),\n",
       "   ('역사', 0.007988957671072444),\n",
       "   ('먹이', 0.00761251463945123)]),\n",
       " (4,\n",
       "  [('야구', 0.018532336150202156),\n",
       "   ('선수', 0.01614638463273699),\n",
       "   ('한국', 0.0157733085772788),\n",
       "   ('명예', 0.012129309896059275),\n",
       "   ('전당', 0.011513300595186451),\n",
       "   ('기록', 0.009795415502611532),\n",
       "   ('미국', 0.007869301913966927),\n",
       "   ('경기', 0.007062416491696889),\n",
       "   ('가장', 0.00583039788995124),\n",
       "   ('투수', 0.005613493206545315)])]"
      ]
     },
     "execution_count": 21,
     "metadata": {},
     "output_type": "execute_result"
    }
   ],
   "source": [
    "# (바이나흐튼 크리스마스 박물관, 세계자동차 & 피아노박물관, 한국야구명예전당(야구박물관), 본태박물관, 초콜릿박물관)\n",
    "topics"
   ]
  },
  {
   "cell_type": "markdown",
   "id": "3e377fca",
   "metadata": {},
   "source": [
    "#### 결과 : 단어의 분포를 통해 세계자동차 & 피아노 박물관과 초콜릿 박물관의 경우 같은 토픽에 분류되었음을 볼 수 있다. "
   ]
  },
  {
   "cell_type": "markdown",
   "id": "37e212d2",
   "metadata": {},
   "source": [
    "### 비슷한 특성을 가진 관광지들에 대한 토픽 모델링 진행(제주 올레길)\n",
    "    - 관광지수와 output 토픽의 개수를 일치시켜, 해당 관광지에 대한 토픽 도출 예상\n",
    "    - 관광지 별 토픽으로 제대로 도출된다면 해당 토픽의 단어는 관광지의 키워드로 사용가능하다고 판단\n",
    "    - 제주 올레길의 경우에도 코스별로 관광지가 나누어져 있는데 박물관보다 해당 관광지들 간의 특성이 유사할 것으로 예상된다.\n",
    "    - (제주올레 3코스, 제주올레 4코스, 제주올레 20코스, 제주올레 7-1코스, 제주올레 10코스) 5개의 관광지로 진행"
   ]
  },
  {
   "cell_type": "code",
   "execution_count": 22,
   "id": "c0b50697",
   "metadata": {},
   "outputs": [
    {
     "data": {
      "application/vnd.jupyter.widget-view+json": {
       "model_id": "86b123a83f8842f39468ab778c30fee3",
       "version_major": 2,
       "version_minor": 0
      },
      "text/plain": [
       "  0%|          | 0/2475 [00:00<?, ?it/s]"
      ]
     },
     "metadata": {},
     "output_type": "display_data"
    }
   ],
   "source": [
    "tourDf = df[(df.source == '제주올레 3코스') | (df.source == '제주올레 4코스') | (df.source == '제주올레 20코스') | (df.source == '제주올레 7-1코스') | (df.source == '제주올레 10코스')]['content']\n",
    "\n",
    "# 토큰화 진행\n",
    "tour_tokenized = tokenizedOkt(tourDf)\n",
    "\n",
    "data_word = tour_tokenized   # 토큰화 데이터\n",
    "Data_list = tourDf             # 원본 데이터\n",
    "# 관광지가 5개 이기때문에 토픽의 개수도 5개로 고정\n",
    "start=5; limit=6; step=1;          # 모델에서 평가해볼 토픽의 개수 시작, 끝, 증분"
   ]
  },
  {
   "cell_type": "code",
   "execution_count": 23,
   "id": "74aa2286",
   "metadata": {},
   "outputs": [
    {
     "name": "stdout",
     "output_type": "stream",
     "text": [
      "Create LDA instance\n",
      "start: 5, limit: 6, step: 1\n"
     ]
    },
    {
     "data": {
      "application/vnd.jupyter.widget-view+json": {
       "model_id": "69a5486d2998406b99b7bcb78bf17a8e",
       "version_major": 2,
       "version_minor": 0
      },
      "text/plain": [
       "  0%|          | 0/1 [00:00<?, ?it/s]"
      ]
     },
     "metadata": {},
     "output_type": "display_data"
    },
    {
     "name": "stdout",
     "output_type": "stream",
     "text": [
      "Num Topics = 5  has Coherence Value of 0.41673649033993215\n"
     ]
    }
   ],
   "source": [
    "model, topics = LDA(data_word, Data_list, start, limit, step)"
   ]
  },
  {
   "cell_type": "code",
   "execution_count": 24,
   "id": "899fbb65",
   "metadata": {},
   "outputs": [
    {
     "data": {
      "text/plain": [
       "[(0,\n",
       "  [('우리', 0.012329850062114277),\n",
       "   ('마음', 0.010987915949750546),\n",
       "   ('송악산', 0.010569391944409383),\n",
       "   ('때문', 0.009466614406526318),\n",
       "   ('산방산', 0.00801838848328229),\n",
       "   ('여행', 0.007858950766961848),\n",
       "   ('지금', 0.0073739943798205),\n",
       "   ('하나', 0.00711490809079978),\n",
       "   ('위해', 0.006251287127397379),\n",
       "   ('이야기', 0.006111779125616991)]),\n",
       " (1,\n",
       "  [('스탬프', 0.021345877716297486),\n",
       "   ('오늘', 0.015536290395256204),\n",
       "   ('버스', 0.014346736838310835),\n",
       "   ('중간', 0.01327734020630944),\n",
       "   ('숙소', 0.012051739571880877),\n",
       "   ('완주', 0.011468978485902588),\n",
       "   ('식당', 0.011180601866037044),\n",
       "   ('아침', 0.009258091066933415),\n",
       "   ('출발', 0.008044506124999249),\n",
       "   ('종점', 0.007882294276324881)]),\n",
       " (2,\n",
       "  [('오름', 0.02924475256578988),\n",
       "   ('해변', 0.020445993289710272),\n",
       "   ('봉', 0.014557497791041825),\n",
       "   ('해녀', 0.014440098615307618),\n",
       "   ('바람', 0.013278464665937555),\n",
       "   ('포구', 0.013222854530063458),\n",
       "   ('해수욕장', 0.010596820336008799),\n",
       "   ('해안', 0.010442347736358524),\n",
       "   ('풍경', 0.008187047781464524),\n",
       "   ('김녕', 0.007674198750625614)]),\n",
       " (3,\n",
       "  [('서귀포', 0.02129268938391135),\n",
       "   ('포구', 0.018077984947619228),\n",
       "   ('한라산', 0.012246132899663401),\n",
       "   ('서귀포시', 0.011081275292159904),\n",
       "   ('공원', 0.010846790968571537),\n",
       "   ('센터', 0.010574486592791497),\n",
       "   ('폭포', 0.009923981695094739),\n",
       "   ('해안', 0.009780265496766385),\n",
       "   ('여행자', 0.009470141068794674),\n",
       "   ('풍경', 0.009349116901781324)]),\n",
       " (4,\n",
       "  [('여행', 0.03064890182347324),\n",
       "   ('우도', 0.023391387385748714),\n",
       "   ('가파도', 0.018307489427493065),\n",
       "   ('항', 0.007521258696739575),\n",
       "   ('해안', 0.00721204128961848),\n",
       "   ('가장', 0.006739120549315629),\n",
       "   ('호텔', 0.006684552771588377),\n",
       "   ('위치', 0.006484470919921786),\n",
       "   ('특별자치도', 0.006329862216361238),\n",
       "   ('이용', 0.006220726660906735)])]"
      ]
     },
     "execution_count": 24,
     "metadata": {},
     "output_type": "execute_result"
    }
   ],
   "source": [
    "# (제주올레 3코스, 제주올레 4코스, 제주올레 20코스, 제주올레 7-1코스, 제주올레 10코스)\n",
    "topics"
   ]
  },
  {
   "cell_type": "markdown",
   "id": "401ca021",
   "metadata": {},
   "source": [
    "#### 결과 : 관광지 별로 토픽이 제대로 ㅂ"
   ]
  }
 ],
 "metadata": {
  "kernelspec": {
   "display_name": "Python 3",
   "language": "python",
   "name": "python3"
  },
  "language_info": {
   "codemirror_mode": {
    "name": "ipython",
    "version": 3
   },
   "file_extension": ".py",
   "mimetype": "text/x-python",
   "name": "python",
   "nbconvert_exporter": "python",
   "pygments_lexer": "ipython3",
   "version": "3.6.13"
  }
 },
 "nbformat": 4,
 "nbformat_minor": 5
}
