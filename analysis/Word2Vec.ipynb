{
 "cells": [
  {
   "cell_type": "code",
   "execution_count": 1,
   "id": "b9622c36",
   "metadata": {},
   "outputs": [],
   "source": [
    "import pandas as pd\n",
    "import numpy as np\n",
    "from tqdm.notebook import tqdm # 진행률 프로세스바\n",
    "from gensim.models import Word2Vec\n",
    "from gensim.models import KeyedVectors\n",
    "from konlpy.tag import Okt\n",
    "from sklearn.metrics.pairwise import cosine_similarity"
   ]
  },
  {
   "cell_type": "code",
   "execution_count": 2,
   "id": "d89836a8",
   "metadata": {},
   "outputs": [],
   "source": [
    "df = pd.read_parquet('after_preprocessing.parquet', columns=['source', 'content'])"
   ]
  },
  {
   "cell_type": "code",
   "execution_count": 47,
   "id": "33fda93a",
   "metadata": {},
   "outputs": [],
   "source": [
    "# 키워드 리스트 불러오기\n",
    "keywordList = pd.read_parquet('top100_keyword.parquet')"
   ]
  },
  {
   "cell_type": "code",
   "execution_count": 52,
   "id": "48f8d0f0",
   "metadata": {},
   "outputs": [
    {
     "data": {
      "text/html": [
       "<div>\n",
       "<style scoped>\n",
       "    .dataframe tbody tr th:only-of-type {\n",
       "        vertical-align: middle;\n",
       "    }\n",
       "\n",
       "    .dataframe tbody tr th {\n",
       "        vertical-align: top;\n",
       "    }\n",
       "\n",
       "    .dataframe thead th {\n",
       "        text-align: right;\n",
       "    }\n",
       "</style>\n",
       "<table border=\"1\" class=\"dataframe\">\n",
       "  <thead>\n",
       "    <tr style=\"text-align: right;\">\n",
       "      <th></th>\n",
       "      <th>source</th>\n",
       "      <th>keyword</th>\n",
       "    </tr>\n",
       "  </thead>\n",
       "  <tbody>\n",
       "    <tr>\n",
       "      <th>95</th>\n",
       "      <td>종달리수국길</td>\n",
       "      <td>사진 종달리해안도로 성산일출봉 동쪽 산책 계획 바람 바다 기도 식당 여름 자연 거리...</td>\n",
       "    </tr>\n",
       "  </tbody>\n",
       "</table>\n",
       "</div>"
      ],
      "text/plain": [
       "    source                                            keyword\n",
       "95  종달리수국길  사진 종달리해안도로 성산일출봉 동쪽 산책 계획 바람 바다 기도 식당 여름 자연 거리..."
      ]
     },
     "execution_count": 52,
     "metadata": {},
     "output_type": "execute_result"
    }
   ],
   "source": [
    "keywordList[keywordList['source'] == '종달리수국길']"
   ]
  },
  {
   "cell_type": "code",
   "execution_count": 5,
   "id": "7e6b7181",
   "metadata": {},
   "outputs": [
    {
     "name": "stdout",
     "output_type": "stream",
     "text": [
      "<class 'pandas.core.frame.DataFrame'>\n",
      "RangeIndex: 361706 entries, 0 to 361705\n",
      "Data columns (total 2 columns):\n",
      " #   Column   Non-Null Count   Dtype \n",
      "---  ------   --------------   ----- \n",
      " 0   source   361706 non-null  object\n",
      " 1   content  361706 non-null  object\n",
      "dtypes: object(2)\n",
      "memory usage: 5.5+ MB\n"
     ]
    }
   ],
   "source": [
    "df.info()"
   ]
  },
  {
   "cell_type": "code",
   "execution_count": 3,
   "id": "1476e9b5",
   "metadata": {},
   "outputs": [],
   "source": [
    "tourlist = [\n",
    " '에코랜드 테마파크',\n",
    " '성산일출봉(UNESCO 세계자연유산)',\n",
    " '천아숲길 천아계곡',\n",
    " '종달리수국길' ,\n",
    " '녹산로유채꽃길'] "
   ]
  },
  {
   "cell_type": "code",
   "execution_count": 4,
   "id": "3ff90c83",
   "metadata": {},
   "outputs": [],
   "source": [
    "tourDf = df[df['source'].isin(tourlist)].reset_index()"
   ]
  },
  {
   "cell_type": "code",
   "execution_count": 5,
   "id": "db94c76d",
   "metadata": {
    "scrolled": true
   },
   "outputs": [
    {
     "name": "stdout",
     "output_type": "stream",
     "text": [
      "<class 'pandas.core.frame.DataFrame'>\n",
      "RangeIndex: 2327 entries, 0 to 2326\n",
      "Data columns (total 3 columns):\n",
      " #   Column   Non-Null Count  Dtype \n",
      "---  ------   --------------  ----- \n",
      " 0   index    2327 non-null   int64 \n",
      " 1   source   2327 non-null   object\n",
      " 2   content  2327 non-null   object\n",
      "dtypes: int64(1), object(2)\n",
      "memory usage: 54.7+ KB\n"
     ]
    }
   ],
   "source": [
    "tourDf.info()"
   ]
  },
  {
   "cell_type": "code",
   "execution_count": 6,
   "id": "d3584e0e",
   "metadata": {},
   "outputs": [],
   "source": [
    "def tokenizedOkt(sentences):\n",
    "    okt = Okt()\n",
    "    total_tokenized_list = []\n",
    "    # 해당 관광지에 관한 content들 토큰화\n",
    "    tqdmDf = tqdm(sentences)\n",
    "    count = 0\n",
    "    \n",
    "    for tourInfo in tqdmDf:\n",
    "        tqdmDf.set_description(f'Processing tokenized')\n",
    "        stop_word = ['있는','있고','있으니','입니다.','이렇게','있을', tourDf['source'][count], tourDf['source'][count].replace(' ',''),'네이버','블로그']\n",
    "        tokenized_doc = okt.pos(tourInfo)\n",
    "        \n",
    "        tokenized_list = [w for w,t in tokenized_doc if t not in ['Verb'] and w not in stop_word]\n",
    "        total_tokenized_list.append(tokenized_list)\n",
    "        \n",
    "    return total_tokenized_list"
   ]
  },
  {
   "cell_type": "code",
   "execution_count": 101,
   "id": "6661747c",
   "metadata": {},
   "outputs": [
    {
     "data": {
      "text/plain": [
       "nan"
      ]
     },
     "execution_count": 101,
     "metadata": {},
     "output_type": "execute_result"
    }
   ],
   "source": [
    "# 1409 index content 빈 값 확인 및 제거\n",
    "tourDf['content'][1409]"
   ]
  },
  {
   "cell_type": "code",
   "execution_count": 7,
   "id": "b478730a",
   "metadata": {
    "scrolled": true
   },
   "outputs": [],
   "source": [
    "tourDf['content'].replace('', np.nan, inplace=True)\n",
    "tourDf = tourDf[tourDf['content'].notna()].reset_index()"
   ]
  },
  {
   "cell_type": "code",
   "execution_count": 8,
   "id": "70481749",
   "metadata": {},
   "outputs": [
    {
     "data": {
      "text/plain": [
       "2326"
      ]
     },
     "execution_count": 8,
     "metadata": {},
     "output_type": "execute_result"
    }
   ],
   "source": [
    "len(tourDf['content'])"
   ]
  },
  {
   "cell_type": "code",
   "execution_count": 9,
   "id": "d0f31656",
   "metadata": {
    "scrolled": false
   },
   "outputs": [
    {
     "data": {
      "application/vnd.jupyter.widget-view+json": {
       "model_id": "95da2a51a9a94250bda6d186ed1b3a08",
       "version_major": 2,
       "version_minor": 0
      },
      "text/plain": [
       "  0%|          | 0/2326 [00:00<?, ?it/s]"
      ]
     },
     "metadata": {},
     "output_type": "display_data"
    }
   ],
   "source": [
    "tokenDf = tokenizedOkt(tourDf['content'])"
   ]
  },
  {
   "cell_type": "markdown",
   "id": "a64e5ee3",
   "metadata": {},
   "source": [
    "## Word2Vec 성능확인\n",
    "- CBOW = 중간 단어 예측, skip gram = 중간 단어로 주변 단어 예측\n",
    "- CBOW 같은 경우 한 문장에 대해서 한 단어는 1번 학습되지만\n",
    "- skip gram 같은 경우 단어 별로 여러번 학습 된다.\n",
    "\n",
    "\n",
    "- size = 워드 벡터의 특징 값. 즉, 임베딩 된 벡터의 차원.\n",
    "- window = 컨텍스트 윈도우 크기\n",
    "- min_count = 단어 최소 빈도 수 제한 (빈도가 적은 단어들은 학습하지 않는다.)\n",
    "- workers = 학습을 위한 프로세스 수\n",
    "- sg = 0은 CBOW, 1은 Skip-gram"
   ]
  },
  {
   "cell_type": "markdown",
   "id": "3d8bc1d0",
   "metadata": {},
   "source": [
    "### skip-gram"
   ]
  },
  {
   "cell_type": "code",
   "execution_count": 53,
   "id": "a8250701",
   "metadata": {},
   "outputs": [],
   "source": [
    "# skip gram\n",
    "word2vec_model_skipgram = Word2Vec(sentences = tokenDf, size = 100, window = 5, min_count = 5, workers = 4, sg = 1)"
   ]
  },
  {
   "cell_type": "code",
   "execution_count": 54,
   "id": "d436ed0c",
   "metadata": {},
   "outputs": [
    {
     "data": {
      "text/plain": [
       "(11146, 100)"
      ]
     },
     "execution_count": 54,
     "metadata": {},
     "output_type": "execute_result"
    }
   ],
   "source": [
    "word2vec_model_skipgram.wv.vectors.shape"
   ]
  },
  {
   "cell_type": "code",
   "execution_count": 13,
   "id": "f9c081db",
   "metadata": {
    "scrolled": true
   },
   "outputs": [
    {
     "data": {
      "text/plain": [
       "[('달리', 0.733333945274353),\n",
       " ('피어', 0.6924291253089905),\n",
       " ('노지', 0.6785334348678589),\n",
       " ('꽃들이', 0.6482338905334473),\n",
       " ('파스텔', 0.632415235042572),\n",
       " ('활짝', 0.6301947832107544),\n",
       " ('성하고', 0.6262366771697998),\n",
       " ('담벼락', 0.6247830390930176),\n",
       " ('꽃망울', 0.6224348545074463),\n",
       " ('벗꽃', 0.6200156211853027)]"
      ]
     },
     "execution_count": 13,
     "metadata": {},
     "output_type": "execute_result"
    }
   ],
   "source": [
    "word2vec_model_skipgram.wv.most_similar('수국')"
   ]
  },
  {
   "cell_type": "code",
   "execution_count": 26,
   "id": "604fb71e",
   "metadata": {},
   "outputs": [
    {
     "data": {
      "text/plain": [
       "[('초여름', 0.9250891208648682),\n",
       " ('화사하게', 0.9246084690093994),\n",
       " ('눈부시게', 0.9207310676574707),\n",
       " ('완연', 0.9206932783126831),\n",
       " ('화려하게', 0.9119160175323486),\n",
       " ('벗꽃', 0.9106734991073608),\n",
       " ('향연', 0.9082958102226257),\n",
       " ('물감', 0.906929612159729),\n",
       " ('아름답게', 0.9067778587341309),\n",
       " ('이맘', 0.9061497449874878)]"
      ]
     },
     "execution_count": 26,
     "metadata": {},
     "output_type": "execute_result"
    }
   ],
   "source": [
    "word2vec_model_skipgram.wv.most_similar('화사한')"
   ]
  },
  {
   "cell_type": "code",
   "execution_count": 55,
   "id": "8ef0dee8",
   "metadata": {},
   "outputs": [
    {
     "data": {
      "text/plain": [
       "[('걷기', 0.7851150035858154),\n",
       " ('가볍게', 0.7701570987701416),\n",
       " ('천천히', 0.7641201019287109),\n",
       " ('산책길', 0.7541016340255737),\n",
       " ('둘러보기', 0.7435195446014404),\n",
       " ('트랙', 0.7385668158531189),\n",
       " ('산책로', 0.7258861064910889),\n",
       " ('한적한', 0.723000168800354),\n",
       " ('사색', 0.7125638127326965),\n",
       " ('한적하게', 0.7119795083999634)]"
      ]
     },
     "execution_count": 55,
     "metadata": {},
     "output_type": "execute_result"
    }
   ],
   "source": [
    "word2vec_model_skipgram.wv.most_similar('산책')"
   ]
  },
  {
   "cell_type": "code",
   "execution_count": 56,
   "id": "3d0b14ad",
   "metadata": {},
   "outputs": [],
   "source": [
    "# skip gram\n",
    "word2vec_model_skipgram = Word2Vec(sentences = tokenDf, size = 100, window = 3, min_count = 5, workers = 4, sg = 1)"
   ]
  },
  {
   "cell_type": "code",
   "execution_count": 28,
   "id": "7d15aea4",
   "metadata": {
    "scrolled": true
   },
   "outputs": [
    {
     "data": {
      "text/plain": [
       "[('달리', 0.7263014316558838),\n",
       " ('피어', 0.6721788644790649),\n",
       " ('꽃들이', 0.670640230178833),\n",
       " ('길가', 0.6597679257392883),\n",
       " ('활짝', 0.6579025983810425),\n",
       " ('꽃길', 0.657056450843811),\n",
       " ('동백꽃', 0.6507202982902527),\n",
       " ('담벼락', 0.6462448239326477),\n",
       " ('벗꽃', 0.6460666656494141),\n",
       " ('화사하게', 0.6455676555633545)]"
      ]
     },
     "execution_count": 28,
     "metadata": {},
     "output_type": "execute_result"
    }
   ],
   "source": [
    "word2vec_model_skipgram.wv.most_similar('수국')"
   ]
  },
  {
   "cell_type": "code",
   "execution_count": 29,
   "id": "420d9caa",
   "metadata": {
    "scrolled": false
   },
   "outputs": [
    {
     "data": {
      "text/plain": [
       "[('화사하게', 0.9538018703460693),\n",
       " ('화려하게', 0.948042631149292),\n",
       " ('완연', 0.9470117688179016),\n",
       " ('발해', 0.9387092590332031),\n",
       " ('빨갛게', 0.936212420463562),\n",
       " ('울긋불긋', 0.9354969263076782),\n",
       " ('초여름', 0.9341397881507874),\n",
       " ('환하게', 0.9340221285820007),\n",
       " ('콜라보', 0.9327752590179443),\n",
       " ('늦가을', 0.9308168888092041)]"
      ]
     },
     "execution_count": 29,
     "metadata": {},
     "output_type": "execute_result"
    }
   ],
   "source": [
    "word2vec_model_skipgram.wv.most_similar('화사한')"
   ]
  },
  {
   "cell_type": "code",
   "execution_count": 57,
   "id": "ebf26563",
   "metadata": {},
   "outputs": [
    {
     "data": {
      "text/plain": [
       "[('걷기', 0.7937313318252563),\n",
       " ('천천히', 0.7898274660110474),\n",
       " ('가볍게', 0.7863270044326782),\n",
       " ('사색', 0.7787995338439941),\n",
       " ('한적하게', 0.7655798196792603),\n",
       " ('둘러보기', 0.7573834657669067),\n",
       " ('트랙', 0.7500003576278687),\n",
       " ('산책길', 0.7492039203643799),\n",
       " ('조용히', 0.742107093334198),\n",
       " ('접근성', 0.741938591003418)]"
      ]
     },
     "execution_count": 57,
     "metadata": {},
     "output_type": "execute_result"
    }
   ],
   "source": [
    "word2vec_model_skipgram.wv.most_similar('산책')"
   ]
  },
  {
   "cell_type": "code",
   "execution_count": 58,
   "id": "783a2c4b",
   "metadata": {},
   "outputs": [],
   "source": [
    "# skip gram\n",
    "word2vec_model_skipgram = Word2Vec(sentences = tokenDf, size = 100, window = 1, min_count = 5, workers = 4, sg = 1)"
   ]
  },
  {
   "cell_type": "code",
   "execution_count": 31,
   "id": "956bcb4a",
   "metadata": {
    "scrolled": true
   },
   "outputs": [
    {
     "data": {
      "text/plain": [
       "[('튤립', 0.7738156318664551),\n",
       " ('동백꽃', 0.7635685205459595),\n",
       " ('꽃밭', 0.7510963678359985),\n",
       " ('유채', 0.7509618997573853),\n",
       " ('유채꽃', 0.7378582954406738),\n",
       " ('동백', 0.7374162673950195),\n",
       " ('벚꽃', 0.732453465461731),\n",
       " ('청보리', 0.7310733795166016),\n",
       " ('꽃들이', 0.7246082425117493),\n",
       " ('코스모스', 0.7151890993118286)]"
      ]
     },
     "execution_count": 31,
     "metadata": {},
     "output_type": "execute_result"
    }
   ],
   "source": [
    "word2vec_model_skipgram.wv.most_similar('수국')"
   ]
  },
  {
   "cell_type": "code",
   "execution_count": 32,
   "id": "daa8d9c5",
   "metadata": {
    "scrolled": true
   },
   "outputs": [
    {
     "data": {
      "text/plain": [
       "[('드러지게', 0.968941867351532),\n",
       " ('화사하게', 0.9653894901275635),\n",
       " ('형형색색', 0.9631203413009644),\n",
       " ('천지', 0.9590035676956177),\n",
       " ('화려하게', 0.9565664529800415),\n",
       " ('오색', 0.9557088017463684),\n",
       " ('성하게', 0.9528377652168274),\n",
       " ('콜라보', 0.952121376991272),\n",
       " ('울긋불긋', 0.9506763815879822),\n",
       " ('빨갛게', 0.950185239315033)]"
      ]
     },
     "execution_count": 32,
     "metadata": {},
     "output_type": "execute_result"
    }
   ],
   "source": [
    "word2vec_model_skipgram.wv.most_similar('화사한')"
   ]
  },
  {
   "cell_type": "code",
   "execution_count": 59,
   "id": "2bbdb90f",
   "metadata": {},
   "outputs": [
    {
     "data": {
      "text/plain": [
       "[('걷기', 0.8588511347770691),\n",
       " ('천천히', 0.8297776579856873),\n",
       " ('둘러보기', 0.8247727155685425),\n",
       " ('접근성', 0.8156402707099915),\n",
       " ('가볍게', 0.8035635948181152),\n",
       " ('찾기', 0.8008365631103516),\n",
       " ('바퀴', 0.7875552773475647),\n",
       " ('마로', 0.7825027704238892),\n",
       " ('운동', 0.7696425914764404),\n",
       " ('산책로', 0.7630506157875061)]"
      ]
     },
     "execution_count": 59,
     "metadata": {},
     "output_type": "execute_result"
    }
   ],
   "source": [
    "word2vec_model_skipgram.wv.most_similar('산책')"
   ]
  },
  {
   "cell_type": "code",
   "execution_count": 60,
   "id": "bb8315f3",
   "metadata": {},
   "outputs": [],
   "source": [
    "# skip gram\n",
    "word2vec_model_skipgram = Word2Vec(sentences = tokenDf, size = 300, window = 1, min_count = 5, workers = 4, sg = 1)"
   ]
  },
  {
   "cell_type": "code",
   "execution_count": 34,
   "id": "8a89d142",
   "metadata": {},
   "outputs": [
    {
     "data": {
      "text/plain": [
       "[('동백꽃', 0.7745952010154724),\n",
       " ('튤립', 0.772774875164032),\n",
       " ('벚꽃', 0.7565107345581055),\n",
       " ('유채', 0.7555995583534241),\n",
       " ('동백', 0.7477849721908569),\n",
       " ('꽃밭', 0.7424488663673401),\n",
       " ('유채꽃', 0.7341821193695068),\n",
       " ('청보리', 0.7325412631034851),\n",
       " ('꽃들이', 0.7162615656852722),\n",
       " ('봄꽃', 0.7143723964691162)]"
      ]
     },
     "execution_count": 34,
     "metadata": {},
     "output_type": "execute_result"
    }
   ],
   "source": [
    "word2vec_model_skipgram.wv.most_similar('수국')"
   ]
  },
  {
   "cell_type": "code",
   "execution_count": 35,
   "id": "feb9a9ab",
   "metadata": {
    "scrolled": false
   },
   "outputs": [
    {
     "data": {
      "text/plain": [
       "[('드러지게', 0.9706772565841675),\n",
       " ('화사하게', 0.9667786359786987),\n",
       " ('형형색색', 0.9663385152816772),\n",
       " ('천지', 0.9630934000015259),\n",
       " ('화려하게', 0.9599868655204773),\n",
       " ('오색', 0.9584367275238037),\n",
       " ('성하게', 0.9574066400527954),\n",
       " ('콜라보', 0.9549382925033569),\n",
       " ('알록달록한', 0.9548102021217346),\n",
       " ('울긋불긋', 0.9540122151374817)]"
      ]
     },
     "execution_count": 35,
     "metadata": {},
     "output_type": "execute_result"
    }
   ],
   "source": [
    "word2vec_model_skipgram.wv.most_similar('화사한')"
   ]
  },
  {
   "cell_type": "code",
   "execution_count": 61,
   "id": "6ba14ae4",
   "metadata": {},
   "outputs": [
    {
     "data": {
      "text/plain": [
       "[('걷기', 0.8593374490737915),\n",
       " ('천천히', 0.8280429840087891),\n",
       " ('둘러보기', 0.816077470779419),\n",
       " ('접근성', 0.8089202642440796),\n",
       " ('가볍게', 0.8063005805015564),\n",
       " ('찾기', 0.7998758554458618),\n",
       " ('바퀴', 0.7874067425727844),\n",
       " ('마로', 0.7863445281982422),\n",
       " ('드라이브', 0.7744019627571106),\n",
       " ('산책로', 0.7647382020950317)]"
      ]
     },
     "execution_count": 61,
     "metadata": {},
     "output_type": "execute_result"
    }
   ],
   "source": [
    "word2vec_model_skipgram.wv.most_similar('산책')"
   ]
  },
  {
   "cell_type": "code",
   "execution_count": 62,
   "id": "52dd1e77",
   "metadata": {
    "scrolled": true
   },
   "outputs": [
    {
     "name": "stdout",
     "output_type": "stream",
     "text": [
      "수국 : [('동백꽃', 0.7765324115753174), ('튤립', 0.7724248170852661), ('벚꽃', 0.7570624351501465), ('동백', 0.7569960355758667), ('유채', 0.7500444650650024), ('꽃밭', 0.7352426648139954), ('유채꽃', 0.7308177947998047), ('청보리', 0.729303777217865), ('봄꽃', 0.7167365550994873), ('꽃들이', 0.71485435962677)]\n",
      "화사한 : [('드러지게', 0.9727051258087158), ('화사하게', 0.9696004986763), ('형형색색', 0.9681439399719238), ('천지', 0.9625675082206726), ('화려하게', 0.9612523913383484), ('오색', 0.9602988958358765), ('성하게', 0.9595808982849121), ('콜라보', 0.9594618082046509), ('알록달록한', 0.9590699672698975), ('그야말로', 0.9590541124343872)]\n",
      "산책 : [('걷기', 0.8698867559432983), ('천천히', 0.8309049010276794), ('둘러보기', 0.8188114762306213), ('접근성', 0.8164956569671631), ('가볍게', 0.8095284104347229), ('찾기', 0.8062119483947754), ('바퀴', 0.7922258973121643), ('마로', 0.7885223627090454), ('드라이브', 0.7867914438247681), ('단거리', 0.7674313187599182)]\n"
     ]
    }
   ],
   "source": [
    "# skip gram\n",
    "word2vec_model_skipgram = Word2Vec(sentences = tokenDf, size = 500, window = 1, min_count = 5, workers = 4, sg = 1)\n",
    "print(f'수국 : {word2vec_model_skipgram.wv.most_similar(\"수국\")}')\n",
    "print(f'화사한 : {word2vec_model_skipgram.wv.most_similar(\"화사한\")}')\n",
    "print(f'산책 : {word2vec_model_skipgram.wv.most_similar(\"산책\")}')"
   ]
  },
  {
   "cell_type": "markdown",
   "id": "650ac7b5",
   "metadata": {},
   "source": [
    "### CBOW"
   ]
  },
  {
   "cell_type": "code",
   "execution_count": 63,
   "id": "57696764",
   "metadata": {},
   "outputs": [],
   "source": [
    "# CBOW\n",
    "word2vec_model_CBOW = Word2Vec(sentences = tokenDf, size = 100, window = 5, min_count = 5, workers = 4, sg = 0)"
   ]
  },
  {
   "cell_type": "code",
   "execution_count": 37,
   "id": "5827cf34",
   "metadata": {
    "scrolled": false
   },
   "outputs": [
    {
     "data": {
      "text/plain": [
       "(11146, 100)"
      ]
     },
     "execution_count": 37,
     "metadata": {},
     "output_type": "execute_result"
    }
   ],
   "source": [
    "word2vec_model_CBOW.wv.vectors.shape"
   ]
  },
  {
   "cell_type": "code",
   "execution_count": 38,
   "id": "c54cf479",
   "metadata": {
    "scrolled": true
   },
   "outputs": [
    {
     "data": {
      "text/plain": [
       "[('유채꽃', 0.9000601768493652),\n",
       " ('벚꽃', 0.8913075923919678),\n",
       " ('활짝', 0.8514318466186523),\n",
       " ('노오', 0.844367504119873),\n",
       " ('유채', 0.834045946598053),\n",
       " ('만발', 0.8297327756881714),\n",
       " ('피어', 0.8182817101478577),\n",
       " ('튤립', 0.7992562055587769),\n",
       " ('꽃길', 0.7991666793823242),\n",
       " ('스팟', 0.7983413934707642)]"
      ]
     },
     "execution_count": 38,
     "metadata": {},
     "output_type": "execute_result"
    }
   ],
   "source": [
    "word2vec_model_CBOW.wv.most_similar('수국')"
   ]
  },
  {
   "cell_type": "code",
   "execution_count": 39,
   "id": "8a1698db",
   "metadata": {},
   "outputs": [
    {
     "data": {
      "text/plain": [
       "[('이지', 0.9758896231651306),\n",
       " ('아름답게', 0.9749916791915894),\n",
       " ('초봄', 0.9659621715545654),\n",
       " ('푸릇푸릇', 0.962666392326355),\n",
       " ('초여름', 0.9591946005821228),\n",
       " ('감탄사', 0.9565547704696655),\n",
       " ('눈부시게', 0.9535303115844727),\n",
       " ('예뻐요', 0.9500758647918701),\n",
       " ('있죠', 0.9453238844871521),\n",
       " ('화려하게', 0.9434857964515686)]"
      ]
     },
     "execution_count": 39,
     "metadata": {},
     "output_type": "execute_result"
    }
   ],
   "source": [
    "word2vec_model_CBOW.wv.most_similar('화사한')"
   ]
  },
  {
   "cell_type": "code",
   "execution_count": 64,
   "id": "ffeaa119",
   "metadata": {},
   "outputs": [
    {
     "data": {
      "text/plain": [
       "[('걷기', 0.8823663592338562),\n",
       " ('천천히', 0.8139923810958862),\n",
       " ('좋다', 0.8027373552322388),\n",
       " ('가볍게', 0.7844594717025757),\n",
       " ('좋고', 0.7794161438941956),\n",
       " ('장거리', 0.7769668102264404),\n",
       " ('좋은', 0.7768592834472656),\n",
       " ('단거리', 0.775915265083313),\n",
       " ('여유', 0.7715490460395813),\n",
       " ('산책로', 0.760635256767273)]"
      ]
     },
     "execution_count": 64,
     "metadata": {},
     "output_type": "execute_result"
    }
   ],
   "source": [
    "word2vec_model_CBOW.wv.most_similar('산책')"
   ]
  },
  {
   "cell_type": "code",
   "execution_count": 65,
   "id": "b77e65bc",
   "metadata": {},
   "outputs": [
    {
     "name": "stdout",
     "output_type": "stream",
     "text": [
      "수국 : [('벚꽃', 0.913415253162384), ('유채꽃', 0.8545932769775391), ('꽃길', 0.8221601843833923), ('활짝', 0.8120996952056885), ('만발', 0.8041905164718628), ('노오', 0.8012207746505737), ('동백꽃', 0.800965428352356), ('유채', 0.8002742528915405), ('종', 0.7988065481185913), ('아직', 0.7898870706558228)]\n",
      "화사한 : [('아름답게', 0.9705498218536377), ('하늘하늘', 0.9660200476646423), ('이지', 0.9641664028167725), ('화려하게', 0.9641305208206177), ('콜라보', 0.9638370275497437), ('향연', 0.9582933187484741), ('있죠', 0.9582161903381348), ('자연도', 0.9565824270248413), ('백정원', 0.956558346748352), ('발해', 0.9557619094848633)]\n",
      "산책 : [('걷기', 0.916069746017456), ('천천히', 0.8504164814949036), ('단거리', 0.845700204372406), ('등산', 0.8344854116439819), ('장거리', 0.8322576880455017), ('있게', 0.8258826732635498), ('바퀴', 0.8211677670478821), ('가볍게', 0.8197581768035889), ('좋다', 0.8155641555786133), ('여유', 0.799348771572113)]\n"
     ]
    }
   ],
   "source": [
    "# CBOW\n",
    "word2vec_model_CBOW = Word2Vec(sentences = tokenDf, size = 100, window = 3, min_count = 5, workers = 4, sg = 0)\n",
    "print(f'수국 : {word2vec_model_CBOW.wv.most_similar(\"수국\")}')\n",
    "print(f'화사한 : {word2vec_model_CBOW.wv.most_similar(\"화사한\")}')\n",
    "print(f'산책 : {word2vec_model_CBOW.wv.most_similar(\"산책\")}')"
   ]
  },
  {
   "cell_type": "code",
   "execution_count": 66,
   "id": "5bc6bc7b",
   "metadata": {},
   "outputs": [
    {
     "name": "stdout",
     "output_type": "stream",
     "text": [
      "수국 : [('동백꽃', 0.8639358282089233), ('유채꽃', 0.8637495040893555), ('종', 0.8392490148544312), ('유채', 0.8294531106948853), ('튤립', 0.8285108804702759), ('동백', 0.828164279460907), ('뮬리', 0.8104469180107117), ('벚꽃', 0.8103405237197876), ('녹', 0.8055287599563599), ('리가', 0.7955368757247925)]\n",
      "화사한 : [('하늘색', 0.9805043935775757), ('아름답게', 0.9789599180221558), ('성한', 0.9785846471786499), ('보라', 0.9782240390777588), ('드러지게', 0.9756938815116882), ('화려하게', 0.9747105240821838), ('붉게', 0.9743005037307739), ('울긋불긋', 0.9725830554962158), ('화사하게', 0.9724209308624268), ('한가득', 0.9716953039169312)]\n",
      "산책 : [('걷기', 0.8941426277160645), ('바퀴', 0.8780102729797363), ('마로', 0.8771822452545166), ('가볍게', 0.8674518465995789), ('넣기', 0.8584790229797363), ('드라이브', 0.8521929383277893), ('천천히', 0.846778929233551), ('단거리', 0.8382279872894287), ('산책길', 0.8227189779281616), ('장거리', 0.8222993016242981)]\n"
     ]
    }
   ],
   "source": [
    "# CBOW\n",
    "word2vec_model_CBOW = Word2Vec(sentences = tokenDf, size = 100, window = 1, min_count = 5, workers = 4, sg = 0)\n",
    "print(f'수국 : {word2vec_model_CBOW.wv.most_similar(\"수국\")}')\n",
    "print(f'화사한 : {word2vec_model_CBOW.wv.most_similar(\"화사한\")}')\n",
    "print(f'산책 : {word2vec_model_CBOW.wv.most_similar(\"산책\")}')"
   ]
  },
  {
   "cell_type": "markdown",
   "id": "786464c4",
   "metadata": {},
   "source": [
    "#### 결과: \n",
    "- CBOW와 skip-gram을 비교하였을 때, 유사한 단어의 목록을 통해서 skip-gram이 더 좋은 성능을 보인다. \n",
    "\n",
    "\n",
    "- skip-gram의 파라미터 \n",
    "- window = 컨텍스트 윈도우 크기는 1 ~ 5 까지 비교하였을 때, \n",
    "- 화사한, 산책이라는 단어를 기준으로 하였을 경우 큰 차이는 보이지 않았지만 3 ~ 5가 더 좋은 결과를 보였다.\n",
    "- 수국이라는 단어를 기준으로는 3 ~ 5의 경우 의미없는 단어가 포함되어 있었지만 1의 경우 의미없는 단어가 포함되지 않았다.\n",
    "- size = 워드 벡터의 차원은 100 ~ 500 까지 비교하였을 때, \n",
    "- 100, 300, 500의 결과는 큰 차이를 보이지 않았으며 100의 경우가 의미없는 단어의 수가 가장 적었다.\n",
    "\n",
    "\n",
    "#### skip-gram의 파라미터는 총 데이터 양에 따라 변화할 수 있지만, 현재 데이터 양을 기준으로는 word2vec_model_skipgram = Word2Vec(sentences = tokenDf, size = 100, window = 1, min_count = 5, workers = 4, sg = 1)가 적절한 파라미터로 판단된다.\n"
   ]
  },
  {
   "cell_type": "code",
   "execution_count": null,
   "id": "cdb70be6",
   "metadata": {},
   "outputs": [],
   "source": []
  }
 ],
 "metadata": {
  "kernelspec": {
   "display_name": "Python 3",
   "language": "python",
   "name": "python3"
  },
  "language_info": {
   "codemirror_mode": {
    "name": "ipython",
    "version": 3
   },
   "file_extension": ".py",
   "mimetype": "text/x-python",
   "name": "python",
   "nbconvert_exporter": "python",
   "pygments_lexer": "ipython3",
   "version": "3.6.13"
  }
 },
 "nbformat": 4,
 "nbformat_minor": 5
}
