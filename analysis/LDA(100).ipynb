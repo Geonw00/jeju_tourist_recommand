{
 "cells": [
  {
   "cell_type": "markdown",
   "id": "d0e06dfd",
   "metadata": {},
   "source": [
    "## LDA(Latent Dirichlet Allocation), 잠재디리클레할당\n",
    "    - 토픽 모델링에 사용되는 대표적인 알고리즘\n",
    "    \n",
    "- 모듈\n",
    "    - gensim.models.wrappers.LdaMallet 모듈사용 => 깁스 샘플링을 사용하여 훈련 코퍼스에서 LDA 모델 추천가능\n",
    "        - 깁스 샘플링 => 2번째로 생성될 표본은 1차 생성 표본의 영향을 받으며, 나머지 변수는 가만히 두고 한 변수에만 변화를 준다.\n",
    "            - ex) p(x1, y1, z1)가 존재할 경우, 변수명+표본의 차수\n",
    "            - 변경 순서 => p(y1, z1)을 유지시킨 채 x1 -> x2 로 변경 => p(x2, z1)을 유지시킨 채 y1 -> y2 로 변경 => ...\n",
    "            - 1차 변경 결과 => p(x2, y2, z2)\n",
    "\n",
    "        - 검색창에 mallet.cs.umass.edu/dist/mallet-2.0.8.zip 치면 해당 zip파일 자동다운로드\n",
    "        \n",
    "        \n",
    "- CoherenceMetric\n",
    "\t- 토픽 내 일관성 지수를 계산, 최적의 토픽 개수를 찾기위해서 사용\n",
    "\t- coherence = 'c_v' 사용\n",
    "\t- score가 높은 토픽 개수 사용\n",
    "    \n",
    "\n",
    "- Corpora 라이브러리\n",
    "\t- from gensim import corpora / from gensim.corpora.dictionary import Dictionary\n",
    "\t- 텍스트 데이터의 특성 상 수치화해서 분석 및 연산 진행해야함.\n",
    "\t- 텍스트를 가지고 분석이나 연산에 용이하게 데이터 집합을 만들어 주는 라이브러리\n",
    "\t- document = ['a', 'b', 'c']라는 리스트가 존재할 때\n",
    "\t- dict = corpora.Dictionary(document) / dict = Dictionary(document) \n",
    "\t- dict는 리스트가 사전형식으로 변환 (ex) {'a': 0, 'b': 1, 'c': 2}\n",
    "\t- doc2bow를 통해서 단어를 숫자로 변경하고 카운트까지 알 수 있음\n",
    "\t- dict.doc2bow(input) 으로 input에 있는 텍스트 사전을 통해 단어별 개수 확인\n",
    "\t- ex) [(0, 1), (1, 5)]이면 0번에 위치한 단어는 1번, 1번에 위치한 단어는 5번 나왔다는 의미"
   ]
  },
  {
   "cell_type": "code",
   "execution_count": 1,
   "id": "40b0f8d8",
   "metadata": {},
   "outputs": [],
   "source": [
    "# !pip install konlpy\n",
    "# 3.8.5 버전이후로 gensim.models.wrappers.LdaMallet 삭제 => 3.8.3 버전 사용\n",
    "# !pip install gensim==3.8.3"
   ]
  },
  {
   "cell_type": "code",
   "execution_count": 1,
   "id": "7b0d771c",
   "metadata": {},
   "outputs": [],
   "source": [
    "from tqdm.notebook import tqdm # 진행률 프로세스바\n",
    "import itertools # 효율적인 루핑을 위한 이터레이터\n",
    "from gensim.models.ldamodel import LdaModel # LDA 모델\n",
    "from gensim.models.callbacks import CoherenceMetric \n",
    "import gensim\n",
    "from gensim import corpora, models\n",
    "from gensim.models import CoherenceModel # 최적의 토픽개수 구하는 모델\n",
    "import pandas as pd\n",
    "import numpy as np\n",
    "from konlpy.tag import Okt\n",
    "import os"
   ]
  },
  {
   "cell_type": "code",
   "execution_count": 2,
   "id": "90ffba1b",
   "metadata": {},
   "outputs": [],
   "source": [
    "# 전체 데이터 읽기\n",
    "# df = pd.read_parquet('after_preprocessing.parquet')\n",
    "\n",
    "# 필요한 컬럼만 읽고 싶을 경우\n",
    "df = pd.read_parquet('after_preprocessing.parquet', columns=['source', 'content'])"
   ]
  },
  {
   "cell_type": "code",
   "execution_count": 3,
   "id": "2da014bd",
   "metadata": {},
   "outputs": [],
   "source": [
    "# Okt로 토큰화\n",
    "def tokenizedOkt(tourDf):\n",
    "    okt = Okt()\n",
    "    tour_tokenized = [] \n",
    "\n",
    "    # 해당 관광지에 관한 content들 토큰화\n",
    "    tqdmDf = tqdm(tourDf)\n",
    "\n",
    "    for tourInfo in tqdmDf:\n",
    "        tqdmDf.set_description(f'Processing tokenized')\n",
    "        tokenized_doc = okt.pos(tourInfo)\n",
    "        \n",
    "        # 명사만 사용\n",
    "        tokenized_list = [w for w,t in tokenized_doc if t =='Noun']\n",
    "        tour_tokenized.append(tokenized_list)\n",
    "        \n",
    "    return tour_tokenized"
   ]
  },
  {
   "cell_type": "code",
   "execution_count": 4,
   "id": "0ec0c86e",
   "metadata": {},
   "outputs": [],
   "source": [
    "# 토크나이징한 데이터를 입력으로 받아서, 이 데이터들을 바탕으로 사전 제작 \n",
    "# corpus에는 (token_id, token_count)가 튜플형태로 저장\n",
    "def dictionary(data_word):\n",
    "    \n",
    "    # 토큰화된 문장리스트로 사전구성\n",
    "    id2word=corpora.Dictionary(data_word)\n",
    "    id2word.filter_extremes(no_below = 20) # 20회 이하로 등장한 단어는 삭제\n",
    "    texts = data_word\n",
    "    # 토큰화된 문장리스트의 각 단어를 통해서 해당 단어가 총 몇번 등장하는 지 계산\n",
    "    corpus=[id2word.doc2bow(text) for text in texts]\n",
    "    return id2word, texts, corpus"
   ]
  },
  {
   "cell_type": "code",
   "execution_count": 5,
   "id": "ef10d0eb",
   "metadata": {},
   "outputs": [],
   "source": [
    "# 최적의 토픽 개수 도출\n",
    "def compute_coherence_values(dictionary, corpus, texts, start, limit, step):\n",
    "    \n",
    "    os.environ.update({'MALLET_HOME':r'C:/pythonPrj/jejuModel/mallet-2.0.8/'})\n",
    "    \n",
    "    # 설치한 mallet 경로\n",
    "    mallet_path = 'C:/pythonPrj/jejuModel/mallet-2.0.8/bin/mallet'\n",
    "    \n",
    "    # 토픽 개수에 따른 모델 저장\n",
    "    model_list = []\n",
    "    \n",
    "    # 모델별 일관성 지수 저장\n",
    "    coherence_values = []\n",
    "    \n",
    "    print(f'start: {start}, limit: {limit}, step: {step}')\n",
    "\n",
    "    # 진행상황 확인 변수 선언\n",
    "    tqdmSet = tqdm(range(start, limit, step))\n",
    "    \n",
    "    for num_topics in tqdmSet:\n",
    "        # 진행 상황 확인(현재 진행되는 num_topics로 해당 문자열 변경)\n",
    "        tqdmSet.set_description(f'Processing num_topics')\n",
    "        \n",
    "        # 토픽 개수별 모델 \n",
    "        model = gensim.models.wrappers.LdaMallet(mallet_path, corpus=corpus, num_topics=num_topics, id2word=dictionary)\n",
    "        model_list.append(model)\n",
    "        \n",
    "        # 모델별 토픽의 일관성 지수 계산 모델\n",
    "        coherencemodel = CoherenceModel(model=model, texts=data_word, dictionary=dictionary, coherence='c_v')\n",
    "        coherence_values.append(coherencemodel.get_coherence())\n",
    "        \n",
    "    return model_list, coherence_values"
   ]
  },
  {
   "cell_type": "code",
   "execution_count": 6,
   "id": "afb50e79",
   "metadata": {},
   "outputs": [],
   "source": [
    "def LDA(data_word, Data_list, start, limit, step):\n",
    "    id2word, texts, corpus = dictionary(data_word)\n",
    "    \n",
    "    print(\"Create LDA instance\")\n",
    "    os.environ.update({'MALLET_HOME':r'C:/pythonPrj/jejuModel/mallet-2.0.8/'})\n",
    "    \n",
    "    # 설치한 mallet 경로\n",
    "    mallet_path = 'C:/pythonPrj/jejuModel/mallet-2.0.8/bin/mallet'\n",
    "    \n",
    "#     # LDA 모델\n",
    "#     ldamallet = gensim.models.wrappers.LdaMallet(mallet_path, corpus=corpus, num_topics=20, id2word=id2word)\n",
    "    \n",
    "#     # 토픽의 일관성 지수 계산 \n",
    "#     coherence_model_ldamallet = CoherenceModel(model=ldamallet, texts=texts, dictionary=id2word, coherence='c_v')\n",
    "#     coherence_ldamallet = coherence_model_ldamallet.get_coherence()\n",
    "    \n",
    "    # 해당 반복문 사용 불가할 시 위의 코드 사용\n",
    "    # 위의 compute_coherence_values를 통한 최적의 토픽 개수 사용\n",
    "    model_list, coherence_values = compute_coherence_values(dictionary=id2word, corpus=corpus, texts=texts, start=start, limit=limit, step=step)\n",
    "    \n",
    "    x = range(start, limit, step)\n",
    "    topic_num = 0\n",
    "    count = 0\n",
    "    max_coherence = 0\n",
    "    for m, cv in zip(x, coherence_values):\n",
    "        # score가 높을수록 좋음\n",
    "        print(\"Num Topics =\", m, \" has Coherence Value of\", cv)\n",
    "        coherence = cv\n",
    "        if coherence >= max_coherence:\n",
    "            max_coherence = coherence\n",
    "            topic_num = m\n",
    "            model_list_num = count   \n",
    "        count = count+1\n",
    "        \n",
    "    # 최적의 모델 도출\n",
    "    optimal_model = model_list[model_list_num]\n",
    "    model_topics = optimal_model.show_topics(formatted=False, num_words=10)\n",
    "    return optimal_model, model_topics"
   ]
  },
  {
   "cell_type": "code",
   "execution_count": null,
   "id": "4372105d",
   "metadata": {},
   "outputs": [],
   "source": []
  },
  {
   "cell_type": "markdown",
   "id": "0b7e34f2",
   "metadata": {},
   "source": [
    "### 100개 관광지에 대한 토픽 모델링 진행\n",
    "    - 추천 대상 100개의 관광지 선정 (2021년 이후 블로그 글 수 순위, 계절별 특성비율, 타 사이트기준 제주도 관광지 순위 등 고려)"
   ]
  },
  {
   "cell_type": "code",
   "execution_count": 7,
   "id": "2f0a7e70",
   "metadata": {},
   "outputs": [],
   "source": [
    "tourlist = ['아르떼뮤지엄',\n",
    " '산방산',\n",
    " '스누피가든',\n",
    " '함덕해수욕장',\n",
    " '사계해변',\n",
    " '섭지코지',\n",
    " '도두동 무지개 해안도로',\n",
    " '협재해수욕장',\n",
    " '동백포레스트',\n",
    " '9.81 파크',\n",
    " '원동',\n",
    " '엉덩물계곡',\n",
    " '새별오름',\n",
    " '구좌해안로',\n",
    " '도치돌 알파카목장',\n",
    " '한라산 아래 첫 마을',\n",
    " '곶자왈',\n",
    " '쇠소깍',\n",
    " '송악산',\n",
    " '윈드1947 카트 테마파크',\n",
    " '뽀로로&타요 테마파크 제주',\n",
    " '탑동',\n",
    " '이호테우해수욕장',\n",
    " '판포포구',\n",
    " '용머리해안',\n",
    " '백록담',\n",
    " '신화테마파크',\n",
    " '도두봉',\n",
    " '삼양해수욕장',\n",
    " '서귀다원',\n",
    " '카멜리아힐',\n",
    " '안돌오름',\n",
    " '광치기해변',\n",
    " '비자림',\n",
    " '사려니숲길',\n",
    " '사진놀이터',\n",
    " '관음사',\n",
    " '비양도',\n",
    " '김녕 청굴물',\n",
    " '신창풍차해안도로',\n",
    " '가파도',\n",
    " '수월이못',\n",
    " '해맞이해안로',\n",
    " '제주센트럴파크',\n",
    " '서귀포해안',\n",
    " '중문색달해수욕장',\n",
    " '금악오름(왕매)',\n",
    " '쁘램 요가',\n",
    " '함덕카페거리',\n",
    " '브릭캠퍼스',\n",
    " '곽지해수욕장',\n",
    " '용두암',\n",
    " '제주 카카오캠핑',\n",
    " '닭머르해안길',\n",
    " '금능해수욕장',\n",
    " '노을해안로',\n",
    " '아침미소목장',\n",
    " '서우봉',\n",
    " '휴림',\n",
    " '도두해안도로',\n",
    " '제주토종흑염소목장',\n",
    " '취다선리조트',\n",
    " '휴애리 자연생활공원',\n",
    " '액티브파크',\n",
    " '천지연폭포',\n",
    " '화조원',\n",
    " '민속해안로',\n",
    " '김택화미술관',\n",
    " '석부작박물관',\n",
    " '오조포구',\n",
    " '바이나흐튼 크리스마스 박물관',\n",
    " '이호테우말등대',\n",
    " '평대해변',\n",
    " '법환포구',\n",
    " '이상한 나라의 앨리스',\n",
    " '제주카약',\n",
    " '제주도립김창열미술관',\n",
    " '혼인지',\n",
    " '정방폭포',\n",
    " '한라산영실코스',\n",
    " '포토갤러리 자연사랑미술관',\n",
    " '오설록티뮤지엄',\n",
    " '막숙',\n",
    " '소천지',\n",
    " '신양섭지해수욕장',\n",
    " '목장카페 드르쿰다',\n",
    " '이로이로공방',\n",
    " '수월봉',\n",
    " '신화워터파크',\n",
    " '제주제트',\n",
    " '애월한담해안산책로',\n",
    " '김녕해수욕장',\n",
    " '수산저수지',\n",
    " '주상절리대(중문대포해안)',\n",
    " '톨칸이',\n",
    " '에코랜드 테마파크',\n",
    " '성산일출봉(UNESCO 세계자연유산)',\n",
    " '천아숲길 천아계곡',\n",
    " '종달리수국길' ,\n",
    " '녹산로유채꽃길'] "
   ]
  },
  {
   "cell_type": "code",
   "execution_count": 8,
   "id": "53276f5a",
   "metadata": {},
   "outputs": [
    {
     "data": {
      "text/plain": [
       "100"
      ]
     },
     "execution_count": 8,
     "metadata": {},
     "output_type": "execute_result"
    }
   ],
   "source": [
    "len(tourlist)"
   ]
  },
  {
   "cell_type": "code",
   "execution_count": 18,
   "id": "55f863d4",
   "metadata": {},
   "outputs": [],
   "source": [
    "tourDf = df[df['source'].isin(tourlist)]"
   ]
  },
  {
   "cell_type": "code",
   "execution_count": 19,
   "id": "cdef4695",
   "metadata": {},
   "outputs": [
    {
     "data": {
      "text/html": [
       "<div>\n",
       "<style scoped>\n",
       "    .dataframe tbody tr th:only-of-type {\n",
       "        vertical-align: middle;\n",
       "    }\n",
       "\n",
       "    .dataframe tbody tr th {\n",
       "        vertical-align: top;\n",
       "    }\n",
       "\n",
       "    .dataframe thead th {\n",
       "        text-align: right;\n",
       "    }\n",
       "</style>\n",
       "<table border=\"1\" class=\"dataframe\">\n",
       "  <thead>\n",
       "    <tr style=\"text-align: right;\">\n",
       "      <th></th>\n",
       "      <th>source</th>\n",
       "      <th>content</th>\n",
       "    </tr>\n",
       "  </thead>\n",
       "  <tbody>\n",
       "    <tr>\n",
       "      <th>0</th>\n",
       "      <td>휴애리 자연생활공원</td>\n",
       "      <td>언니 평소 가보고 싶어 하던 휴애리 축제 다녀왔어요 지금 한참 만발 해서 꽃길 걷다...</td>\n",
       "    </tr>\n",
       "    <tr>\n",
       "      <th>1</th>\n",
       "      <td>휴애리 자연생활공원</td>\n",
       "      <td>안녕하세요 아델라 입니다 이번 포스팅 휴애리 자연생활공원 사진 많은 이었어요 저희 ...</td>\n",
       "    </tr>\n",
       "    <tr>\n",
       "      <th>2</th>\n",
       "      <td>휴애리 자연생활공원</td>\n",
       "      <td>제주도 휴애리 자연생활공원 제주 매화축제 구경 제주 서귀포시 남원읍 매일 연중 입장...</td>\n",
       "    </tr>\n",
       "    <tr>\n",
       "      <th>3</th>\n",
       "      <td>휴애리 자연생활공원</td>\n",
       "      <td>안녕하세요 량애 절반 지나가고 있네요 아직도 머물러 있어요 제주도 여행 다녀온지 얼...</td>\n",
       "    </tr>\n",
       "    <tr>\n",
       "      <th>4</th>\n",
       "      <td>휴애리 자연생활공원</td>\n",
       "      <td>서귀포 가볼만 휴애리 자연생활공원 동백 포토 진짜 제주도 가서 이렇게 동백 미친듯이...</td>\n",
       "    </tr>\n",
       "    <tr>\n",
       "      <th>...</th>\n",
       "      <td>...</td>\n",
       "      <td>...</td>\n",
       "    </tr>\n",
       "    <tr>\n",
       "      <th>360726</th>\n",
       "      <td>9.81 파크</td>\n",
       "      <td>하늘하늘 라벤더 귤나무 멋있는 서귀포 숙소 제주 토끼 이번 숙소 정말 좋은 선택 이...</td>\n",
       "    </tr>\n",
       "    <tr>\n",
       "      <th>360727</th>\n",
       "      <td>9.81 파크</td>\n",
       "      <td>산양 큰엉 작은 마을 찻길 따라 미지 세계 산양 큰엉 넣어 여행 일정 만들고 제주 ...</td>\n",
       "    </tr>\n",
       "    <tr>\n",
       "      <th>360728</th>\n",
       "      <td>9.81 파크</td>\n",
       "      <td>모노리스 김종석 대표 전자 이동석 회장 찾아갔다 회장 소유 애월읍 부지 사람 만남 ...</td>\n",
       "    </tr>\n",
       "    <tr>\n",
       "      <th>360729</th>\n",
       "      <td>9.81 파크</td>\n",
       "      <td>김포 제주 오가는 가장 비행기 타야겠다고 생각 한다면 선택 있는 시간대 많지 않다 ...</td>\n",
       "    </tr>\n",
       "    <tr>\n",
       "      <th>360730</th>\n",
       "      <td>9.81 파크</td>\n",
       "      <td>여름방학 시작 되는 제주도 여행 계획 있다면 어떤 가보는 좋을까 관광 공사 직접 추...</td>\n",
       "    </tr>\n",
       "  </tbody>\n",
       "</table>\n",
       "<p>78931 rows × 2 columns</p>\n",
       "</div>"
      ],
      "text/plain": [
       "            source                                            content\n",
       "0       휴애리 자연생활공원  언니 평소 가보고 싶어 하던 휴애리 축제 다녀왔어요 지금 한참 만발 해서 꽃길 걷다...\n",
       "1       휴애리 자연생활공원  안녕하세요 아델라 입니다 이번 포스팅 휴애리 자연생활공원 사진 많은 이었어요 저희 ...\n",
       "2       휴애리 자연생활공원  제주도 휴애리 자연생활공원 제주 매화축제 구경 제주 서귀포시 남원읍 매일 연중 입장...\n",
       "3       휴애리 자연생활공원  안녕하세요 량애 절반 지나가고 있네요 아직도 머물러 있어요 제주도 여행 다녀온지 얼...\n",
       "4       휴애리 자연생활공원  서귀포 가볼만 휴애리 자연생활공원 동백 포토 진짜 제주도 가서 이렇게 동백 미친듯이...\n",
       "...            ...                                                ...\n",
       "360726     9.81 파크  하늘하늘 라벤더 귤나무 멋있는 서귀포 숙소 제주 토끼 이번 숙소 정말 좋은 선택 이...\n",
       "360727     9.81 파크  산양 큰엉 작은 마을 찻길 따라 미지 세계 산양 큰엉 넣어 여행 일정 만들고 제주 ...\n",
       "360728     9.81 파크  모노리스 김종석 대표 전자 이동석 회장 찾아갔다 회장 소유 애월읍 부지 사람 만남 ...\n",
       "360729     9.81 파크  김포 제주 오가는 가장 비행기 타야겠다고 생각 한다면 선택 있는 시간대 많지 않다 ...\n",
       "360730     9.81 파크  여름방학 시작 되는 제주도 여행 계획 있다면 어떤 가보는 좋을까 관광 공사 직접 추...\n",
       "\n",
       "[78931 rows x 2 columns]"
      ]
     },
     "execution_count": 19,
     "metadata": {},
     "output_type": "execute_result"
    }
   ],
   "source": [
    "tourDf"
   ]
  },
  {
   "cell_type": "code",
   "execution_count": 21,
   "id": "8d798e5d",
   "metadata": {},
   "outputs": [
    {
     "data": {
      "text/plain": [
       "100"
      ]
     },
     "execution_count": 21,
     "metadata": {},
     "output_type": "execute_result"
    }
   ],
   "source": [
    "len(tourDf['source'].unique())"
   ]
  },
  {
   "cell_type": "code",
   "execution_count": 22,
   "id": "da6e7b0c",
   "metadata": {},
   "outputs": [
    {
     "data": {
      "application/vnd.jupyter.widget-view+json": {
       "model_id": "ce74c126eece4596b05158b61aba6cb4",
       "version_major": 2,
       "version_minor": 0
      },
      "text/plain": [
       "  0%|          | 0/78931 [00:00<?, ?it/s]"
      ]
     },
     "metadata": {},
     "output_type": "display_data"
    },
    {
     "ename": "KeyboardInterrupt",
     "evalue": "",
     "output_type": "error",
     "traceback": [
      "\u001b[1;31m---------------------------------------------------------------------------\u001b[0m",
      "\u001b[1;31mKeyboardInterrupt\u001b[0m                         Traceback (most recent call last)",
      "\u001b[1;32m<ipython-input-22-3e8e2deb0fe7>\u001b[0m in \u001b[0;36m<module>\u001b[1;34m\u001b[0m\n\u001b[0;32m      3\u001b[0m \u001b[1;33m\u001b[0m\u001b[0m\n\u001b[0;32m      4\u001b[0m \u001b[1;31m# 토큰화 진행\u001b[0m\u001b[1;33m\u001b[0m\u001b[1;33m\u001b[0m\u001b[1;33m\u001b[0m\u001b[0m\n\u001b[1;32m----> 5\u001b[1;33m \u001b[0mtour_tokenized\u001b[0m \u001b[1;33m=\u001b[0m \u001b[0mtokenizedOkt\u001b[0m\u001b[1;33m(\u001b[0m\u001b[0mtourDf\u001b[0m\u001b[1;33m[\u001b[0m\u001b[1;34m'content'\u001b[0m\u001b[1;33m]\u001b[0m\u001b[1;33m)\u001b[0m\u001b[1;33m\u001b[0m\u001b[1;33m\u001b[0m\u001b[0m\n\u001b[0m\u001b[0;32m      6\u001b[0m \u001b[1;33m\u001b[0m\u001b[0m\n\u001b[0;32m      7\u001b[0m \u001b[0mdata_word\u001b[0m \u001b[1;33m=\u001b[0m \u001b[0mtour_tokenized\u001b[0m   \u001b[1;31m# 토큰화 데이터\u001b[0m\u001b[1;33m\u001b[0m\u001b[1;33m\u001b[0m\u001b[0m\n",
      "\u001b[1;32m<ipython-input-3-2c87c67e3c38>\u001b[0m in \u001b[0;36mtokenizedOkt\u001b[1;34m(tourDf)\u001b[0m\n\u001b[0;32m      9\u001b[0m     \u001b[1;32mfor\u001b[0m \u001b[0mtourInfo\u001b[0m \u001b[1;32min\u001b[0m \u001b[0mtqdmDf\u001b[0m\u001b[1;33m:\u001b[0m\u001b[1;33m\u001b[0m\u001b[1;33m\u001b[0m\u001b[0m\n\u001b[0;32m     10\u001b[0m         \u001b[0mtqdmDf\u001b[0m\u001b[1;33m.\u001b[0m\u001b[0mset_description\u001b[0m\u001b[1;33m(\u001b[0m\u001b[1;34mf'Processing tokenized'\u001b[0m\u001b[1;33m)\u001b[0m\u001b[1;33m\u001b[0m\u001b[1;33m\u001b[0m\u001b[0m\n\u001b[1;32m---> 11\u001b[1;33m         \u001b[0mtokenized_doc\u001b[0m \u001b[1;33m=\u001b[0m \u001b[0mokt\u001b[0m\u001b[1;33m.\u001b[0m\u001b[0mpos\u001b[0m\u001b[1;33m(\u001b[0m\u001b[0mtourInfo\u001b[0m\u001b[1;33m)\u001b[0m\u001b[1;33m\u001b[0m\u001b[1;33m\u001b[0m\u001b[0m\n\u001b[0m\u001b[0;32m     12\u001b[0m \u001b[1;33m\u001b[0m\u001b[0m\n\u001b[0;32m     13\u001b[0m         \u001b[1;31m# 명사만 사용\u001b[0m\u001b[1;33m\u001b[0m\u001b[1;33m\u001b[0m\u001b[1;33m\u001b[0m\u001b[0m\n",
      "\u001b[1;32m~\\anaconda3\\envs\\env11\\lib\\site-packages\\konlpy\\tag\\_okt.py\u001b[0m in \u001b[0;36mpos\u001b[1;34m(self, phrase, norm, stem, join)\u001b[0m\n\u001b[0;32m     72\u001b[0m                     \u001b[0mphrase\u001b[0m\u001b[1;33m,\u001b[0m\u001b[1;33m\u001b[0m\u001b[1;33m\u001b[0m\u001b[0m\n\u001b[0;32m     73\u001b[0m                     \u001b[0mjpype\u001b[0m\u001b[1;33m.\u001b[0m\u001b[0mjava\u001b[0m\u001b[1;33m.\u001b[0m\u001b[0mlang\u001b[0m\u001b[1;33m.\u001b[0m\u001b[0mBoolean\u001b[0m\u001b[1;33m(\u001b[0m\u001b[0mnorm\u001b[0m\u001b[1;33m)\u001b[0m\u001b[1;33m,\u001b[0m\u001b[1;33m\u001b[0m\u001b[1;33m\u001b[0m\u001b[0m\n\u001b[1;32m---> 74\u001b[1;33m                     jpype.java.lang.Boolean(stem)).toArray()\n\u001b[0m\u001b[0;32m     75\u001b[0m         \u001b[1;32mif\u001b[0m \u001b[0mjoin\u001b[0m\u001b[1;33m:\u001b[0m\u001b[1;33m\u001b[0m\u001b[1;33m\u001b[0m\u001b[0m\n\u001b[0;32m     76\u001b[0m             \u001b[1;32mreturn\u001b[0m \u001b[1;33m[\u001b[0m\u001b[0mt\u001b[0m \u001b[1;32mfor\u001b[0m \u001b[0mt\u001b[0m \u001b[1;32min\u001b[0m \u001b[0mtokens\u001b[0m\u001b[1;33m]\u001b[0m\u001b[1;33m\u001b[0m\u001b[1;33m\u001b[0m\u001b[0m\n",
      "\u001b[1;31mKeyboardInterrupt\u001b[0m: "
     ]
    }
   ],
   "source": [
    "# seires => DataFrame으로 변환 (원본 데이터)\n",
    "# tour_OriDf = pd.DataFrame(tourDf)\n",
    "\n",
    "# 토큰화 진행\n",
    "tour_tokenized = tokenizedOkt(tourDf['content'])\n",
    "\n",
    "data_word = tour_tokenized   # 토큰화 데이터\n",
    "Data_list = tourDf             # 원본 데이터\n",
    "start=100; limit=101; step=1;  # 모델에서 평가해볼 토픽의 개수 시작, 끝, 증분"
   ]
  },
  {
   "cell_type": "code",
   "execution_count": 12,
   "id": "f232dcbd",
   "metadata": {
    "scrolled": false
   },
   "outputs": [
    {
     "name": "stdout",
     "output_type": "stream",
     "text": [
      "Create LDA instance\n",
      "start: 5, limit: 10, step: 1\n"
     ]
    },
    {
     "data": {
      "application/vnd.jupyter.widget-view+json": {
       "model_id": "075e6b37337141f3bd83d4f904d40b77",
       "version_major": 2,
       "version_minor": 0
      },
      "text/plain": [
       "  0%|          | 0/5 [00:00<?, ?it/s]"
      ]
     },
     "metadata": {},
     "output_type": "display_data"
    },
    {
     "name": "stdout",
     "output_type": "stream",
     "text": [
      "Num Topics = 5  has Coherence Value of 0.45843252051599437\n",
      "Num Topics = 6  has Coherence Value of 0.44210563238726636\n",
      "Num Topics = 7  has Coherence Value of 0.4644892361686814\n",
      "Num Topics = 8  has Coherence Value of 0.4667237867115923\n",
      "Num Topics = 9  has Coherence Value of 0.4742658558790529\n"
     ]
    }
   ],
   "source": [
    "model, topics = LDA(data_word, Data_list, start, limit, step)"
   ]
  },
  {
   "cell_type": "code",
   "execution_count": 13,
   "id": "dd0a5af0",
   "metadata": {
    "scrolled": true
   },
   "outputs": [
    {
     "data": {
      "text/plain": [
       "[(0,\n",
       "  [('전복', 0.17200217037438958),\n",
       "   ('한치', 0.14378730330982095),\n",
       "   ('된장', 0.060499186109603906),\n",
       "   ('전복죽', 0.05344546934346175),\n",
       "   ('맛집', 0.04584915897992404),\n",
       "   ('베이스', 0.0341833966359197),\n",
       "   ('고등어', 0.030656538252848618),\n",
       "   ('반찬', 0.030113944655453067),\n",
       "   ('국물', 0.025501899077590883),\n",
       "   ('냉동', 0.025230602278893108)]),\n",
       " (1,\n",
       "  [('우리', 0.06780798925814031),\n",
       "   ('근처', 0.058744545149378984),\n",
       "   ('숙소', 0.04296743873783149),\n",
       "   ('미리', 0.03759650889560255),\n",
       "   ('도착', 0.03591809331990601),\n",
       "   ('오늘', 0.03491104397448808),\n",
       "   ('다음', 0.02853306478684122),\n",
       "   ('날씨', 0.02853306478684122),\n",
       "   ('점심', 0.027861698556562606),\n",
       "   ('이제', 0.027861698556562606)]),\n",
       " (2,\n",
       "  [('정말', 0.09620596205962059),\n",
       "   ('추천', 0.06063685636856368),\n",
       "   ('느낌', 0.05521680216802168),\n",
       "   ('진짜', 0.0535230352303523),\n",
       "   ('조금', 0.053184281842818426),\n",
       "   ('생각', 0.049796747967479675),\n",
       "   ('그냥', 0.03353658536585366),\n",
       "   ('사실', 0.03116531165311653),\n",
       "   ('여기', 0.030149051490514906),\n",
       "   ('저희', 0.030149051490514906)]),\n",
       " (3,\n",
       "  [('여행', 0.13023855577047067),\n",
       "   ('사람', 0.10541586073500966),\n",
       "   ('정도', 0.04448742746615087),\n",
       "   ('이번', 0.039651837524177946),\n",
       "   ('동네', 0.03868471953578337),\n",
       "   ('생각', 0.032559638942617666),\n",
       "   ('혼자', 0.02804642166344294),\n",
       "   ('거리', 0.026434558349451968),\n",
       "   ('다른', 0.025145067698259187),\n",
       "   ('산책', 0.025145067698259187)]),\n",
       " (4,\n",
       "  [('바로', 0.06119109947643979),\n",
       "   ('시간', 0.05202879581151833),\n",
       "   ('공간', 0.04221204188481675),\n",
       "   ('게스트하우스', 0.03893979057591623),\n",
       "   ('당신', 0.031413612565445025),\n",
       "   ('주방', 0.028795811518324606),\n",
       "   ('숙소', 0.028468586387434554),\n",
       "   ('오션', 0.0281413612565445),\n",
       "   ('예약', 0.02650523560209424),\n",
       "   ('서귀포', 0.02356020942408377)]),\n",
       " (5,\n",
       "  [('카페', 0.23010973936899862),\n",
       "   ('자리', 0.06035665294924554),\n",
       "   ('커피', 0.05281207133058985),\n",
       "   ('테이블', 0.03326474622770919),\n",
       "   ('분위기', 0.029835390946502057),\n",
       "   ('여기', 0.027777777777777776),\n",
       "   ('시간', 0.02709190672153635),\n",
       "   ('지니', 0.02606310013717421),\n",
       "   ('바로', 0.025377229080932786),\n",
       "   ('사장', 0.024691358024691357)]),\n",
       " (6,\n",
       "  [('가게', 0.04879749041477867),\n",
       "   ('가격', 0.04600906239107703),\n",
       "   ('음식', 0.04531195538515162),\n",
       "   ('시간', 0.04008365284071105),\n",
       "   ('휴무', 0.033112582781456956),\n",
       "   ('하나', 0.03241547577553154),\n",
       "   ('갈치', 0.029627047751829907),\n",
       "   ('여름', 0.027884280237016383),\n",
       "   ('영업', 0.02718717323109097),\n",
       "   ('손님', 0.026838619728128267)]),\n",
       " (7,\n",
       "  [('주문', 0.1156166219839142),\n",
       "   ('맛집', 0.11025469168900805),\n",
       "   ('서귀포', 0.10455764075067024),\n",
       "   ('메뉴', 0.07540214477211796),\n",
       "   ('방문', 0.05294906166219839),\n",
       "   ('주차', 0.04658176943699732),\n",
       "   ('식사', 0.036193029490616625),\n",
       "   ('위치', 0.030831099195710455),\n",
       "   ('밥', 0.028150134048257374),\n",
       "   ('새미', 0.02546916890080429)]),\n",
       " (8,\n",
       "  [('코스', 0.047182175622542594),\n",
       "   ('마을', 0.03964613368283093),\n",
       "   ('바닷가', 0.03636959370904325),\n",
       "   ('올레', 0.03604193971166448),\n",
       "   ('해변', 0.03407601572739188),\n",
       "   ('다시', 0.033420707732634336),\n",
       "   ('바람', 0.03211009174311927),\n",
       "   ('마음', 0.03145478374836173),\n",
       "   ('시작', 0.030799475753604193),\n",
       "   ('풍경', 0.03014416775884666)])]"
      ]
     },
     "execution_count": 13,
     "metadata": {},
     "output_type": "execute_result"
    }
   ],
   "source": [
    "# 결과확인 (공천포)\n",
    "topics"
   ]
  },
  {
   "cell_type": "code",
   "execution_count": null,
   "id": "722ec866",
   "metadata": {},
   "outputs": [],
   "source": []
  }
 ],
 "metadata": {
  "kernelspec": {
   "display_name": "Python 3",
   "language": "python",
   "name": "python3"
  },
  "language_info": {
   "codemirror_mode": {
    "name": "ipython",
    "version": 3
   },
   "file_extension": ".py",
   "mimetype": "text/x-python",
   "name": "python",
   "nbconvert_exporter": "python",
   "pygments_lexer": "ipython3",
   "version": "3.6.13"
  }
 },
 "nbformat": 4,
 "nbformat_minor": 5
}
